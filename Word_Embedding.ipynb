{
  "nbformat": 4,
  "nbformat_minor": 0,
  "metadata": {
    "colab": {
      "provenance": []
    },
    "kernelspec": {
      "name": "python3",
      "display_name": "Python 3"
    },
    "language_info": {
      "name": "python"
    }
  },
  "cells": [
    {
      "cell_type": "markdown",
      "source": [
        "### Word Embedding Techniques using Embedding Layer in Keras"
      ],
      "metadata": {
        "id": "xnRn2oyaQtZ3"
      }
    },
    {
      "cell_type": "code",
      "execution_count": 65,
      "metadata": {
        "id": "VWCiaw2oQmFT"
      },
      "outputs": [],
      "source": [
        "### Libraries Used tensorflow > 2.0 and keras"
      ]
    },
    {
      "cell_type": "code",
      "source": [
        "## tensorflow >2.0\n",
        "from tensorflow.keras.preprocessing.text import one_hot\n"
      ],
      "metadata": {
        "id": "wF6OksmhTcXy"
      },
      "execution_count": 66,
      "outputs": []
    },
    {
      "cell_type": "code",
      "source": [
        "##sentences\n",
        "sentences= [\"the glass of milk\", \"the glass of juice\", \"the cup of tea\", \"I am a good boy\", \"I am a good developer\", \"Understand the meaning of words\", \"your videos are good\"]"
      ],
      "metadata": {
        "id": "T48zkql5Tp7_"
      },
      "execution_count": 67,
      "outputs": []
    },
    {
      "cell_type": "code",
      "source": [
        "sentences"
      ],
      "metadata": {
        "colab": {
          "base_uri": "https://localhost:8080/"
        },
        "id": "ic7o8dduUCbY",
        "outputId": "c78a4430-42f8-407b-b1c9-0b688acdf0f5"
      },
      "execution_count": 68,
      "outputs": [
        {
          "output_type": "execute_result",
          "data": {
            "text/plain": [
              "['the glass of milk',\n",
              " 'the glass of juice',\n",
              " 'the cup of tea',\n",
              " 'I am a good boy',\n",
              " 'I am a good developer',\n",
              " 'Understand the meaning of words',\n",
              " 'your videos are good']"
            ]
          },
          "metadata": {},
          "execution_count": 68
        }
      ]
    },
    {
      "cell_type": "code",
      "source": [
        "### Vocabs size\n",
        "voc_size= 10000"
      ],
      "metadata": {
        "id": "Kc63UWtfUE2D"
      },
      "execution_count": 69,
      "outputs": []
    },
    {
      "cell_type": "markdown",
      "source": [
        "### One Hot Representation"
      ],
      "metadata": {
        "id": "RhEjfKWeUKHL"
      }
    },
    {
      "cell_type": "code",
      "source": [
        "onehot_rep= [one_hot(words, voc_size) for words in sentences]\n",
        "print(onehot_rep)"
      ],
      "metadata": {
        "colab": {
          "base_uri": "https://localhost:8080/"
        },
        "id": "fN8wO1mtUJZ6",
        "outputId": "7ccc6038-1963-4bbc-9e28-eeecf8ad58d3"
      },
      "execution_count": 70,
      "outputs": [
        {
          "output_type": "stream",
          "name": "stdout",
          "text": [
            "[[8531, 9479, 7990, 6391], [8531, 9479, 7990, 1714], [8531, 8238, 7990, 9983], [808, 2316, 3465, 6984, 7391], [808, 2316, 3465, 6984, 2076], [1418, 8531, 3231, 7990, 5649], [154, 8307, 3632, 6984]]\n"
          ]
        }
      ]
    },
    {
      "cell_type": "markdown",
      "source": [
        "### Word Embedding Representation"
      ],
      "metadata": {
        "id": "MuShNUQZU4Om"
      }
    },
    {
      "cell_type": "code",
      "source": [
        "from tensorflow.keras.layers import Embedding\n",
        "from tensorflow.keras.preprocessing.text import one_hot\n",
        "from tensorflow.keras.preprocessing.sequence import pad_sequences\n",
        "from tensorflow.keras.models import Sequential\n",
        "import numpy as np"
      ],
      "metadata": {
        "id": "LMNOsAZKUr65"
      },
      "execution_count": 71,
      "outputs": []
    },
    {
      "cell_type": "code",
      "source": [
        "sentence_length= 8\n",
        "embedded_docs= pad_sequences(onehot_rep, padding='post', maxlen=sentence_length)\n",
        "print(embedded_docs)"
      ],
      "metadata": {
        "colab": {
          "base_uri": "https://localhost:8080/"
        },
        "id": "cYJKOYXwVZDG",
        "outputId": "a5315da6-93ea-4d11-c874-e3cc36ee4dab"
      },
      "execution_count": 72,
      "outputs": [
        {
          "output_type": "stream",
          "name": "stdout",
          "text": [
            "[[8531 9479 7990 6391    0    0    0    0]\n",
            " [8531 9479 7990 1714    0    0    0    0]\n",
            " [8531 8238 7990 9983    0    0    0    0]\n",
            " [ 808 2316 3465 6984 7391    0    0    0]\n",
            " [ 808 2316 3465 6984 2076    0    0    0]\n",
            " [1418 8531 3231 7990 5649    0    0    0]\n",
            " [ 154 8307 3632 6984    0    0    0    0]]\n"
          ]
        }
      ]
    },
    {
      "cell_type": "code",
      "source": [
        "embedding_dim=10"
      ],
      "metadata": {
        "id": "OSoVTkM1VprZ"
      },
      "execution_count": 73,
      "outputs": []
    },
    {
      "cell_type": "code",
      "source": [
        "model= Sequential()\n",
        "model.add(Embedding(voc_size, embedding_dim, input_length= sentence_length))\n",
        "#model.compile('adam', 'mse')"
      ],
      "metadata": {
        "id": "DZbWYgk9WFKp"
      },
      "execution_count": 74,
      "outputs": []
    },
    {
      "cell_type": "code",
      "source": [
        "## Expicitly building the model\n",
        "model.build(input_shape=(None, sentence_length))"
      ],
      "metadata": {
        "id": "VXzL5vPked96"
      },
      "execution_count": 75,
      "outputs": []
    },
    {
      "cell_type": "code",
      "source": [
        "model.summary()"
      ],
      "metadata": {
        "colab": {
          "base_uri": "https://localhost:8080/",
          "height": 161
        },
        "id": "hQJdx-CvWlwa",
        "outputId": "2737184b-86f0-4e8e-ab4a-83159b7c38bf"
      },
      "execution_count": 76,
      "outputs": [
        {
          "output_type": "display_data",
          "data": {
            "text/plain": [
              "\u001b[1mModel: \"sequential_4\"\u001b[0m\n"
            ],
            "text/html": [
              "<pre style=\"white-space:pre;overflow-x:auto;line-height:normal;font-family:Menlo,'DejaVu Sans Mono',consolas,'Courier New',monospace\"><span style=\"font-weight: bold\">Model: \"sequential_4\"</span>\n",
              "</pre>\n"
            ]
          },
          "metadata": {}
        },
        {
          "output_type": "display_data",
          "data": {
            "text/plain": [
              "┏━━━━━━━━━━━━━━━━━━━━━━━━━━━━━━━━━━━━━━┳━━━━━━━━━━━━━━━━━━━━━━━━━━━━━┳━━━━━━━━━━━━━━━━━┓\n",
              "┃\u001b[1m \u001b[0m\u001b[1mLayer (type)                        \u001b[0m\u001b[1m \u001b[0m┃\u001b[1m \u001b[0m\u001b[1mOutput Shape               \u001b[0m\u001b[1m \u001b[0m┃\u001b[1m \u001b[0m\u001b[1m        Param #\u001b[0m\u001b[1m \u001b[0m┃\n",
              "┡━━━━━━━━━━━━━━━━━━━━━━━━━━━━━━━━━━━━━━╇━━━━━━━━━━━━━━━━━━━━━━━━━━━━━╇━━━━━━━━━━━━━━━━━┩\n",
              "│ embedding_4 (\u001b[38;5;33mEmbedding\u001b[0m)              │ (\u001b[38;5;45mNone\u001b[0m, \u001b[38;5;34m8\u001b[0m, \u001b[38;5;34m10\u001b[0m)               │         \u001b[38;5;34m100,000\u001b[0m │\n",
              "└──────────────────────────────────────┴─────────────────────────────┴─────────────────┘\n"
            ],
            "text/html": [
              "<pre style=\"white-space:pre;overflow-x:auto;line-height:normal;font-family:Menlo,'DejaVu Sans Mono',consolas,'Courier New',monospace\">┏━━━━━━━━━━━━━━━━━━━━━━━━━━━━━━━━━━━━━━┳━━━━━━━━━━━━━━━━━━━━━━━━━━━━━┳━━━━━━━━━━━━━━━━━┓\n",
              "┃<span style=\"font-weight: bold\"> Layer (type)                         </span>┃<span style=\"font-weight: bold\"> Output Shape                </span>┃<span style=\"font-weight: bold\">         Param # </span>┃\n",
              "┡━━━━━━━━━━━━━━━━━━━━━━━━━━━━━━━━━━━━━━╇━━━━━━━━━━━━━━━━━━━━━━━━━━━━━╇━━━━━━━━━━━━━━━━━┩\n",
              "│ embedding_4 (<span style=\"color: #0087ff; text-decoration-color: #0087ff\">Embedding</span>)              │ (<span style=\"color: #00d7ff; text-decoration-color: #00d7ff\">None</span>, <span style=\"color: #00af00; text-decoration-color: #00af00\">8</span>, <span style=\"color: #00af00; text-decoration-color: #00af00\">10</span>)               │         <span style=\"color: #00af00; text-decoration-color: #00af00\">100,000</span> │\n",
              "└──────────────────────────────────────┴─────────────────────────────┴─────────────────┘\n",
              "</pre>\n"
            ]
          },
          "metadata": {}
        },
        {
          "output_type": "display_data",
          "data": {
            "text/plain": [
              "\u001b[1m Total params: \u001b[0m\u001b[38;5;34m100,000\u001b[0m (390.62 KB)\n"
            ],
            "text/html": [
              "<pre style=\"white-space:pre;overflow-x:auto;line-height:normal;font-family:Menlo,'DejaVu Sans Mono',consolas,'Courier New',monospace\"><span style=\"font-weight: bold\"> Total params: </span><span style=\"color: #00af00; text-decoration-color: #00af00\">100,000</span> (390.62 KB)\n",
              "</pre>\n"
            ]
          },
          "metadata": {}
        },
        {
          "output_type": "display_data",
          "data": {
            "text/plain": [
              "\u001b[1m Trainable params: \u001b[0m\u001b[38;5;34m100,000\u001b[0m (390.62 KB)\n"
            ],
            "text/html": [
              "<pre style=\"white-space:pre;overflow-x:auto;line-height:normal;font-family:Menlo,'DejaVu Sans Mono',consolas,'Courier New',monospace\"><span style=\"font-weight: bold\"> Trainable params: </span><span style=\"color: #00af00; text-decoration-color: #00af00\">100,000</span> (390.62 KB)\n",
              "</pre>\n"
            ]
          },
          "metadata": {}
        },
        {
          "output_type": "display_data",
          "data": {
            "text/plain": [
              "\u001b[1m Non-trainable params: \u001b[0m\u001b[38;5;34m0\u001b[0m (0.00 B)\n"
            ],
            "text/html": [
              "<pre style=\"white-space:pre;overflow-x:auto;line-height:normal;font-family:Menlo,'DejaVu Sans Mono',consolas,'Courier New',monospace\"><span style=\"font-weight: bold\"> Non-trainable params: </span><span style=\"color: #00af00; text-decoration-color: #00af00\">0</span> (0.00 B)\n",
              "</pre>\n"
            ]
          },
          "metadata": {}
        }
      ]
    },
    {
      "cell_type": "code",
      "source": [
        "print(model.predict(embedded_docs))"
      ],
      "metadata": {
        "colab": {
          "base_uri": "https://localhost:8080/"
        },
        "id": "v3BTJ3yUWruf",
        "outputId": "c5c6cbb7-b57b-4388-c32a-17e95e6a1172"
      },
      "execution_count": 77,
      "outputs": [
        {
          "output_type": "stream",
          "name": "stderr",
          "text": [
            "WARNING:tensorflow:5 out of the last 13 calls to <function TensorFlowTrainer.make_predict_function.<locals>.one_step_on_data_distributed at 0x7f0b348f76a0> triggered tf.function retracing. Tracing is expensive and the excessive number of tracings could be due to (1) creating @tf.function repeatedly in a loop, (2) passing tensors with different shapes, (3) passing Python objects instead of tensors. For (1), please define your @tf.function outside of the loop. For (2), @tf.function has reduce_retracing=True option that can avoid unnecessary retracing. For (3), please refer to https://www.tensorflow.org/guide/function#controlling_retracing and https://www.tensorflow.org/api_docs/python/tf/function for  more details.\n"
          ]
        },
        {
          "output_type": "stream",
          "name": "stdout",
          "text": [
            "\u001b[1m1/1\u001b[0m \u001b[32m━━━━━━━━━━━━━━━━━━━━\u001b[0m\u001b[37m\u001b[0m \u001b[1m0s\u001b[0m 102ms/step\n",
            "[[[ 0.03001713 -0.01924721 -0.01719568 -0.02945783  0.03267456\n",
            "    0.00845128 -0.03870701  0.03827338 -0.03485578  0.02084886]\n",
            "  [-0.0263018   0.01599922  0.01678387  0.02591267  0.04214943\n",
            "   -0.02913859 -0.02607424  0.01557303 -0.02318821  0.04205123]\n",
            "  [-0.01773211  0.02537224  0.03094319  0.01019954  0.00765485\n",
            "   -0.01743877 -0.02142055  0.03913976  0.04645011 -0.01419897]\n",
            "  [ 0.00083728 -0.03392832  0.00655762  0.00588393  0.02405516\n",
            "   -0.04034752 -0.00396546 -0.02850298 -0.03205919 -0.02237659]\n",
            "  [ 0.02726002  0.02610994  0.03557538 -0.0018124  -0.03068017\n",
            "   -0.02832514 -0.02205814 -0.01096712 -0.04100211  0.01597482]\n",
            "  [ 0.02726002  0.02610994  0.03557538 -0.0018124  -0.03068017\n",
            "   -0.02832514 -0.02205814 -0.01096712 -0.04100211  0.01597482]\n",
            "  [ 0.02726002  0.02610994  0.03557538 -0.0018124  -0.03068017\n",
            "   -0.02832514 -0.02205814 -0.01096712 -0.04100211  0.01597482]\n",
            "  [ 0.02726002  0.02610994  0.03557538 -0.0018124  -0.03068017\n",
            "   -0.02832514 -0.02205814 -0.01096712 -0.04100211  0.01597482]]\n",
            "\n",
            " [[ 0.03001713 -0.01924721 -0.01719568 -0.02945783  0.03267456\n",
            "    0.00845128 -0.03870701  0.03827338 -0.03485578  0.02084886]\n",
            "  [-0.0263018   0.01599922  0.01678387  0.02591267  0.04214943\n",
            "   -0.02913859 -0.02607424  0.01557303 -0.02318821  0.04205123]\n",
            "  [-0.01773211  0.02537224  0.03094319  0.01019954  0.00765485\n",
            "   -0.01743877 -0.02142055  0.03913976  0.04645011 -0.01419897]\n",
            "  [ 0.01911746 -0.04229565  0.04496671 -0.02533388  0.03207758\n",
            "   -0.01420309  0.02341297 -0.0087324  -0.03873476  0.04510434]\n",
            "  [ 0.02726002  0.02610994  0.03557538 -0.0018124  -0.03068017\n",
            "   -0.02832514 -0.02205814 -0.01096712 -0.04100211  0.01597482]\n",
            "  [ 0.02726002  0.02610994  0.03557538 -0.0018124  -0.03068017\n",
            "   -0.02832514 -0.02205814 -0.01096712 -0.04100211  0.01597482]\n",
            "  [ 0.02726002  0.02610994  0.03557538 -0.0018124  -0.03068017\n",
            "   -0.02832514 -0.02205814 -0.01096712 -0.04100211  0.01597482]\n",
            "  [ 0.02726002  0.02610994  0.03557538 -0.0018124  -0.03068017\n",
            "   -0.02832514 -0.02205814 -0.01096712 -0.04100211  0.01597482]]\n",
            "\n",
            " [[ 0.03001713 -0.01924721 -0.01719568 -0.02945783  0.03267456\n",
            "    0.00845128 -0.03870701  0.03827338 -0.03485578  0.02084886]\n",
            "  [-0.01287436  0.04754119 -0.03041173 -0.00692565 -0.01721555\n",
            "    0.04891516  0.04448665 -0.01715493  0.01533851  0.00666112]\n",
            "  [-0.01773211  0.02537224  0.03094319  0.01019954  0.00765485\n",
            "   -0.01743877 -0.02142055  0.03913976  0.04645011 -0.01419897]\n",
            "  [-0.01875606 -0.02362242  0.02003666  0.01478111  0.00571533\n",
            "    0.00751305 -0.02603495 -0.04118723 -0.04607565  0.01915919]\n",
            "  [ 0.02726002  0.02610994  0.03557538 -0.0018124  -0.03068017\n",
            "   -0.02832514 -0.02205814 -0.01096712 -0.04100211  0.01597482]\n",
            "  [ 0.02726002  0.02610994  0.03557538 -0.0018124  -0.03068017\n",
            "   -0.02832514 -0.02205814 -0.01096712 -0.04100211  0.01597482]\n",
            "  [ 0.02726002  0.02610994  0.03557538 -0.0018124  -0.03068017\n",
            "   -0.02832514 -0.02205814 -0.01096712 -0.04100211  0.01597482]\n",
            "  [ 0.02726002  0.02610994  0.03557538 -0.0018124  -0.03068017\n",
            "   -0.02832514 -0.02205814 -0.01096712 -0.04100211  0.01597482]]\n",
            "\n",
            " [[ 0.00703802 -0.03563259 -0.04835292 -0.00348401  0.03512229\n",
            "   -0.01323249  0.00547925 -0.00590882  0.01450821  0.0259116 ]\n",
            "  [ 0.01913178 -0.00220894 -0.04573231 -0.0071952   0.03846362\n",
            "   -0.0194851  -0.00320818  0.00724332 -0.01349772 -0.02124648]\n",
            "  [-0.02276323  0.0065338  -0.02297142 -0.03975867  0.02579887\n",
            "    0.01053638 -0.01595914  0.0457453   0.0445425   0.01541651]\n",
            "  [ 0.03946041  0.0237293   0.00272148 -0.0138879  -0.02773365\n",
            "    0.02868829  0.04005248  0.00543282 -0.03294922  0.0111842 ]\n",
            "  [ 0.04337463  0.04406847  0.04325296  0.02748725  0.02729508\n",
            "    0.0088209  -0.02107648  0.01520724  0.04680869  0.02320509]\n",
            "  [ 0.02726002  0.02610994  0.03557538 -0.0018124  -0.03068017\n",
            "   -0.02832514 -0.02205814 -0.01096712 -0.04100211  0.01597482]\n",
            "  [ 0.02726002  0.02610994  0.03557538 -0.0018124  -0.03068017\n",
            "   -0.02832514 -0.02205814 -0.01096712 -0.04100211  0.01597482]\n",
            "  [ 0.02726002  0.02610994  0.03557538 -0.0018124  -0.03068017\n",
            "   -0.02832514 -0.02205814 -0.01096712 -0.04100211  0.01597482]]\n",
            "\n",
            " [[ 0.00703802 -0.03563259 -0.04835292 -0.00348401  0.03512229\n",
            "   -0.01323249  0.00547925 -0.00590882  0.01450821  0.0259116 ]\n",
            "  [ 0.01913178 -0.00220894 -0.04573231 -0.0071952   0.03846362\n",
            "   -0.0194851  -0.00320818  0.00724332 -0.01349772 -0.02124648]\n",
            "  [-0.02276323  0.0065338  -0.02297142 -0.03975867  0.02579887\n",
            "    0.01053638 -0.01595914  0.0457453   0.0445425   0.01541651]\n",
            "  [ 0.03946041  0.0237293   0.00272148 -0.0138879  -0.02773365\n",
            "    0.02868829  0.04005248  0.00543282 -0.03294922  0.0111842 ]\n",
            "  [-0.03943152  0.00502734  0.01454243 -0.01361613  0.03071416\n",
            "   -0.01493851 -0.03551103 -0.01573502  0.03373541  0.00235609]\n",
            "  [ 0.02726002  0.02610994  0.03557538 -0.0018124  -0.03068017\n",
            "   -0.02832514 -0.02205814 -0.01096712 -0.04100211  0.01597482]\n",
            "  [ 0.02726002  0.02610994  0.03557538 -0.0018124  -0.03068017\n",
            "   -0.02832514 -0.02205814 -0.01096712 -0.04100211  0.01597482]\n",
            "  [ 0.02726002  0.02610994  0.03557538 -0.0018124  -0.03068017\n",
            "   -0.02832514 -0.02205814 -0.01096712 -0.04100211  0.01597482]]\n",
            "\n",
            " [[ 0.0405952   0.03985746  0.00279337  0.03392598 -0.02254893\n",
            "   -0.00699503 -0.04213445  0.0220787   0.02658509  0.01993258]\n",
            "  [ 0.03001713 -0.01924721 -0.01719568 -0.02945783  0.03267456\n",
            "    0.00845128 -0.03870701  0.03827338 -0.03485578  0.02084886]\n",
            "  [ 0.03741026  0.03947009  0.00080203 -0.00843835 -0.04370424\n",
            "    0.04741888  0.03854498  0.00596095  0.02216143 -0.03278989]\n",
            "  [-0.01773211  0.02537224  0.03094319  0.01019954  0.00765485\n",
            "   -0.01743877 -0.02142055  0.03913976  0.04645011 -0.01419897]\n",
            "  [ 0.03787628 -0.03532841 -0.04000832 -0.03602647  0.04924572\n",
            "   -0.04881421  0.01425728 -0.01882809 -0.0113359  -0.04947374]\n",
            "  [ 0.02726002  0.02610994  0.03557538 -0.0018124  -0.03068017\n",
            "   -0.02832514 -0.02205814 -0.01096712 -0.04100211  0.01597482]\n",
            "  [ 0.02726002  0.02610994  0.03557538 -0.0018124  -0.03068017\n",
            "   -0.02832514 -0.02205814 -0.01096712 -0.04100211  0.01597482]\n",
            "  [ 0.02726002  0.02610994  0.03557538 -0.0018124  -0.03068017\n",
            "   -0.02832514 -0.02205814 -0.01096712 -0.04100211  0.01597482]]\n",
            "\n",
            " [[ 0.03101707  0.0258686  -0.03807288 -0.04140899 -0.00058844\n",
            "    0.04646475 -0.042058   -0.01854227  0.04976306 -0.01566942]\n",
            "  [-0.01576309  0.0065096  -0.0469161  -0.04042525  0.02190915\n",
            "   -0.01444496  0.02455116  0.04732367  0.02493838 -0.035978  ]\n",
            "  [-0.04513731  0.01726225 -0.00882016  0.02889777  0.03344801\n",
            "   -0.03426278  0.02469902 -0.00688694 -0.00184562  0.02316589]\n",
            "  [ 0.03946041  0.0237293   0.00272148 -0.0138879  -0.02773365\n",
            "    0.02868829  0.04005248  0.00543282 -0.03294922  0.0111842 ]\n",
            "  [ 0.02726002  0.02610994  0.03557538 -0.0018124  -0.03068017\n",
            "   -0.02832514 -0.02205814 -0.01096712 -0.04100211  0.01597482]\n",
            "  [ 0.02726002  0.02610994  0.03557538 -0.0018124  -0.03068017\n",
            "   -0.02832514 -0.02205814 -0.01096712 -0.04100211  0.01597482]\n",
            "  [ 0.02726002  0.02610994  0.03557538 -0.0018124  -0.03068017\n",
            "   -0.02832514 -0.02205814 -0.01096712 -0.04100211  0.01597482]\n",
            "  [ 0.02726002  0.02610994  0.03557538 -0.0018124  -0.03068017\n",
            "   -0.02832514 -0.02205814 -0.01096712 -0.04100211  0.01597482]]]\n"
          ]
        }
      ]
    },
    {
      "cell_type": "code",
      "source": [
        "embedded_docs[0]"
      ],
      "metadata": {
        "colab": {
          "base_uri": "https://localhost:8080/"
        },
        "id": "-sp4hZd8W2ku",
        "outputId": "d20207b6-3440-4725-d00d-9efc821017d3"
      },
      "execution_count": 78,
      "outputs": [
        {
          "output_type": "execute_result",
          "data": {
            "text/plain": [
              "array([8531, 9479, 7990, 6391,    0,    0,    0,    0], dtype=int32)"
            ]
          },
          "metadata": {},
          "execution_count": 78
        }
      ]
    },
    {
      "cell_type": "code",
      "source": [
        "print(model.predict(embedded_docs)[0])"
      ],
      "metadata": {
        "colab": {
          "base_uri": "https://localhost:8080/"
        },
        "id": "bD2N1XVnW5Z6",
        "outputId": "999389cb-062e-421e-f93e-e12fe325ca61"
      },
      "execution_count": 79,
      "outputs": [
        {
          "output_type": "stream",
          "name": "stdout",
          "text": [
            "\u001b[1m1/1\u001b[0m \u001b[32m━━━━━━━━━━━━━━━━━━━━\u001b[0m\u001b[37m\u001b[0m \u001b[1m0s\u001b[0m 65ms/step\n",
            "[[ 0.03001713 -0.01924721 -0.01719568 -0.02945783  0.03267456  0.00845128\n",
            "  -0.03870701  0.03827338 -0.03485578  0.02084886]\n",
            " [-0.0263018   0.01599922  0.01678387  0.02591267  0.04214943 -0.02913859\n",
            "  -0.02607424  0.01557303 -0.02318821  0.04205123]\n",
            " [-0.01773211  0.02537224  0.03094319  0.01019954  0.00765485 -0.01743877\n",
            "  -0.02142055  0.03913976  0.04645011 -0.01419897]\n",
            " [ 0.00083728 -0.03392832  0.00655762  0.00588393  0.02405516 -0.04034752\n",
            "  -0.00396546 -0.02850298 -0.03205919 -0.02237659]\n",
            " [ 0.02726002  0.02610994  0.03557538 -0.0018124  -0.03068017 -0.02832514\n",
            "  -0.02205814 -0.01096712 -0.04100211  0.01597482]\n",
            " [ 0.02726002  0.02610994  0.03557538 -0.0018124  -0.03068017 -0.02832514\n",
            "  -0.02205814 -0.01096712 -0.04100211  0.01597482]\n",
            " [ 0.02726002  0.02610994  0.03557538 -0.0018124  -0.03068017 -0.02832514\n",
            "  -0.02205814 -0.01096712 -0.04100211  0.01597482]\n",
            " [ 0.02726002  0.02610994  0.03557538 -0.0018124  -0.03068017 -0.02832514\n",
            "  -0.02205814 -0.01096712 -0.04100211  0.01597482]]\n"
          ]
        }
      ]
    },
    {
      "cell_type": "code",
      "source": [
        "print(model.predict(embedded_docs)[1])"
      ],
      "metadata": {
        "colab": {
          "base_uri": "https://localhost:8080/"
        },
        "id": "knGBpHZlXBVm",
        "outputId": "0018f5e6-8cbf-44f9-fb99-9761e4d7b2e2"
      },
      "execution_count": 80,
      "outputs": [
        {
          "output_type": "stream",
          "name": "stdout",
          "text": [
            "\u001b[1m1/1\u001b[0m \u001b[32m━━━━━━━━━━━━━━━━━━━━\u001b[0m\u001b[37m\u001b[0m \u001b[1m0s\u001b[0m 74ms/step\n",
            "[[ 0.03001713 -0.01924721 -0.01719568 -0.02945783  0.03267456  0.00845128\n",
            "  -0.03870701  0.03827338 -0.03485578  0.02084886]\n",
            " [-0.0263018   0.01599922  0.01678387  0.02591267  0.04214943 -0.02913859\n",
            "  -0.02607424  0.01557303 -0.02318821  0.04205123]\n",
            " [-0.01773211  0.02537224  0.03094319  0.01019954  0.00765485 -0.01743877\n",
            "  -0.02142055  0.03913976  0.04645011 -0.01419897]\n",
            " [ 0.01911746 -0.04229565  0.04496671 -0.02533388  0.03207758 -0.01420309\n",
            "   0.02341297 -0.0087324  -0.03873476  0.04510434]\n",
            " [ 0.02726002  0.02610994  0.03557538 -0.0018124  -0.03068017 -0.02832514\n",
            "  -0.02205814 -0.01096712 -0.04100211  0.01597482]\n",
            " [ 0.02726002  0.02610994  0.03557538 -0.0018124  -0.03068017 -0.02832514\n",
            "  -0.02205814 -0.01096712 -0.04100211  0.01597482]\n",
            " [ 0.02726002  0.02610994  0.03557538 -0.0018124  -0.03068017 -0.02832514\n",
            "  -0.02205814 -0.01096712 -0.04100211  0.01597482]\n",
            " [ 0.02726002  0.02610994  0.03557538 -0.0018124  -0.03068017 -0.02832514\n",
            "  -0.02205814 -0.01096712 -0.04100211  0.01597482]]\n"
          ]
        }
      ]
    }
  ]
}