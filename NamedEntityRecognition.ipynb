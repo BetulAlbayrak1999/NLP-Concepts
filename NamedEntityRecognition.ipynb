{
  "nbformat": 4,
  "nbformat_minor": 0,
  "metadata": {
    "colab": {
      "provenance": []
    },
    "kernelspec": {
      "name": "python3",
      "display_name": "Python 3"
    },
    "language_info": {
      "name": "python"
    }
  },
  "cells": [
    {
      "cell_type": "markdown",
      "source": [
        "Named Entity Recognition (NER) is a subtask of Natural Language Processing (NLP) that aims to identify and extract named entities from a text. Named entities are objects or concepts that are assigned a name, such as persons, organizations, locations, dates, and numerical expressions.\n",
        "\n",
        "NER involves using machine learning algorithms to automatically recognize and classify named entities in text data, based on their context and characteristics. NER can be applied in a wide range of applications, such as information extraction, question answering, text classification, and sentiment analysis.\n",
        "\n",
        "The output of NER is a structured representation of the text, where named entities are tagged and classified according to predefined categories. NER is a critical component in many NLP applications, as it helps to extract structured information from unstructured text data, making it easier to process and analyze."
      ],
      "metadata": {
        "id": "LgSnCdZdWV2v"
      }
    },
    {
      "cell_type": "code",
      "execution_count": 2,
      "metadata": {
        "id": "sMV7kYRcWJwN"
      },
      "outputs": [],
      "source": [
        "import spacy"
      ]
    },
    {
      "cell_type": "code",
      "source": [
        "nlp= spacy.load('en_core_web_sm')\n",
        "nlp.pipe_names"
      ],
      "metadata": {
        "colab": {
          "base_uri": "https://localhost:8080/"
        },
        "id": "nLHm_OAWWe2V",
        "outputId": "56e2988a-94f6-4377-d572-9b0c6c701641"
      },
      "execution_count": 3,
      "outputs": [
        {
          "output_type": "execute_result",
          "data": {
            "text/plain": [
              "['tok2vec', 'tagger', 'parser', 'attribute_ruler', 'lemmatizer', 'ner']"
            ]
          },
          "metadata": {},
          "execution_count": 3
        }
      ]
    },
    {
      "cell_type": "code",
      "source": [
        "doc = nlp('Tesla Inc is going to acquire Twitter for $45 billion.')\n",
        "print(doc.ents)\n",
        "\n",
        "for ent in doc.ents:\n",
        "  print(ent.text, ', ', ent.label_, ', ', spacy.explain(ent.label_))"
      ],
      "metadata": {
        "colab": {
          "base_uri": "https://localhost:8080/"
        },
        "id": "CA56HP8UWwqt",
        "outputId": "04f9fadc-cf9e-4dbe-de95-2b58c14aa6ec"
      },
      "execution_count": 4,
      "outputs": [
        {
          "output_type": "stream",
          "name": "stdout",
          "text": [
            "(Tesla Inc, Twitter, $45 billion)\n",
            "Tesla Inc ,  ORG ,  Companies, agencies, institutions, etc.\n",
            "Twitter ,  PRODUCT ,  Objects, vehicles, foods, etc. (not services)\n",
            "$45 billion ,  MONEY ,  Monetary values, including unit\n"
          ]
        }
      ]
    },
    {
      "cell_type": "code",
      "source": [
        "from spacy import displacy\n",
        "displacy.render(doc, style='ent')"
      ],
      "metadata": {
        "colab": {
          "base_uri": "https://localhost:8080/",
          "height": 52
        },
        "id": "Nbr9FoipXiPB",
        "outputId": "40cacbd9-1e54-49c3-c085-24c5764ac636"
      },
      "execution_count": 5,
      "outputs": [
        {
          "output_type": "display_data",
          "data": {
            "text/plain": [
              "<IPython.core.display.HTML object>"
            ],
            "text/html": [
              "<span class=\"tex2jax_ignore\"><div class=\"entities\" style=\"line-height: 2.5; direction: ltr\">\n",
              "<mark class=\"entity\" style=\"background: #7aecec; padding: 0.45em 0.6em; margin: 0 0.25em; line-height: 1; border-radius: 0.35em;\">\n",
              "    Tesla Inc\n",
              "    <span style=\"font-size: 0.8em; font-weight: bold; line-height: 1; border-radius: 0.35em; vertical-align: middle; margin-left: 0.5rem\">ORG</span>\n",
              "</mark>\n",
              " is going to acquire \n",
              "<mark class=\"entity\" style=\"background: #bfeeb7; padding: 0.45em 0.6em; margin: 0 0.25em; line-height: 1; border-radius: 0.35em;\">\n",
              "    Twitter\n",
              "    <span style=\"font-size: 0.8em; font-weight: bold; line-height: 1; border-radius: 0.35em; vertical-align: middle; margin-left: 0.5rem\">PRODUCT</span>\n",
              "</mark>\n",
              " for \n",
              "<mark class=\"entity\" style=\"background: #e4e7d2; padding: 0.45em 0.6em; margin: 0 0.25em; line-height: 1; border-radius: 0.35em;\">\n",
              "    $45 billion\n",
              "    <span style=\"font-size: 0.8em; font-weight: bold; line-height: 1; border-radius: 0.35em; vertical-align: middle; margin-left: 0.5rem\">MONEY</span>\n",
              "</mark>\n",
              ".</div></span>"
            ]
          },
          "metadata": {}
        }
      ]
    },
    {
      "cell_type": "code",
      "source": [
        "## List down all the entities\n",
        "nlp.pipe_labels['ner']"
      ],
      "metadata": {
        "colab": {
          "base_uri": "https://localhost:8080/"
        },
        "id": "wv_6dnvEXsf6",
        "outputId": "56d1dda3-d1ff-4a94-f62c-f1441118a80f"
      },
      "execution_count": 6,
      "outputs": [
        {
          "output_type": "execute_result",
          "data": {
            "text/plain": [
              "['CARDINAL',\n",
              " 'DATE',\n",
              " 'EVENT',\n",
              " 'FAC',\n",
              " 'GPE',\n",
              " 'LANGUAGE',\n",
              " 'LAW',\n",
              " 'LOC',\n",
              " 'MONEY',\n",
              " 'NORP',\n",
              " 'ORDINAL',\n",
              " 'ORG',\n",
              " 'PERCENT',\n",
              " 'PERSON',\n",
              " 'PRODUCT',\n",
              " 'QUANTITY',\n",
              " 'TIME',\n",
              " 'WORK_OF_ART']"
            ]
          },
          "metadata": {},
          "execution_count": 6
        }
      ]
    },
    {
      "cell_type": "code",
      "source": [
        "doc= nlp('Michael Bloomberg founded Blooberg in 1982')\n",
        "doc.ents"
      ],
      "metadata": {
        "colab": {
          "base_uri": "https://localhost:8080/"
        },
        "id": "oe3qEIjMWerK",
        "outputId": "8cf6e744-dedf-491f-9b2e-04ca0e640324"
      },
      "execution_count": 7,
      "outputs": [
        {
          "output_type": "execute_result",
          "data": {
            "text/plain": [
              "(Michael Bloomberg, Blooberg, 1982)"
            ]
          },
          "metadata": {},
          "execution_count": 7
        }
      ]
    },
    {
      "cell_type": "code",
      "source": [
        "for ent in doc.ents:\n",
        "  print(ent.text, ', ', ent.label_, ', ', spacy.explain(ent.label_))\n",
        ""
      ],
      "metadata": {
        "colab": {
          "base_uri": "https://localhost:8080/"
        },
        "id": "CilWitecYS0U",
        "outputId": "57fdd116-12e4-468b-9225-f4b97b6fd98b"
      },
      "execution_count": 8,
      "outputs": [
        {
          "output_type": "stream",
          "name": "stdout",
          "text": [
            "Michael Bloomberg ,  PERSON ,  People, including fictional\n",
            "Blooberg ,  GPE ,  Countries, cities, states\n",
            "1982 ,  DATE ,  Absolute or relative dates or periods\n"
          ]
        }
      ]
    },
    {
      "cell_type": "code",
      "source": [
        "doc = nlp('Tesla Inc is going to acquire Twitter Inc for $56 billion')\n",
        "for ent in doc.ents:\n",
        "  print(ent.text, ', ', ent.label_, ', ', ent.start_char, ', ', ent.end_char)"
      ],
      "metadata": {
        "colab": {
          "base_uri": "https://localhost:8080/"
        },
        "id": "6zLvkK9FYjnb",
        "outputId": "f9fb2bf5-c72b-4f2f-b3f3-af3f8155343b"
      },
      "execution_count": 9,
      "outputs": [
        {
          "output_type": "stream",
          "name": "stdout",
          "text": [
            "Tesla Inc ,  ORG ,  0 ,  9\n",
            "Twitter Inc ,  ORG ,  30 ,  41\n",
            "$56 billion ,  MONEY ,  46 ,  57\n"
          ]
        }
      ]
    },
    {
      "cell_type": "markdown",
      "source": [
        "Setting Custom Entities"
      ],
      "metadata": {
        "id": "QGkCRuGHZBYe"
      }
    },
    {
      "cell_type": "code",
      "source": [
        "doc= nlp('Tesla is going to acuire Twitter for 65$ billion')\n",
        "for ent in doc.ents:\n",
        "  print(ent.text, ', ', ent.label_)"
      ],
      "metadata": {
        "colab": {
          "base_uri": "https://localhost:8080/"
        },
        "id": "IJnUQUN3Y9tb",
        "outputId": "201836da-21f2-4caf-fdc8-c5215caff549"
      },
      "execution_count": 10,
      "outputs": [
        {
          "output_type": "stream",
          "name": "stdout",
          "text": [
            "Tesla ,  ORG\n",
            "Twitter ,  PRODUCT\n",
            "65$ billion ,  MONEY\n"
          ]
        }
      ]
    },
    {
      "cell_type": "code",
      "source": [
        "s= doc[2:5]\n",
        "print(s)\n",
        "print(type(s))"
      ],
      "metadata": {
        "colab": {
          "base_uri": "https://localhost:8080/"
        },
        "id": "5YwQWD6GSKq7",
        "outputId": "2f69093f-5d72-4892-e4fb-33826ee010a6"
      },
      "execution_count": 11,
      "outputs": [
        {
          "output_type": "stream",
          "name": "stdout",
          "text": [
            "going to acuire\n",
            "<class 'spacy.tokens.span.Span'>\n"
          ]
        }
      ]
    },
    {
      "cell_type": "code",
      "source": [
        "from spacy.tokens import Span\n"
      ],
      "metadata": {
        "id": "0oaROXbvSXni"
      },
      "execution_count": 12,
      "outputs": []
    },
    {
      "cell_type": "code",
      "source": [
        "s1= Span(doc, 0, 1, label= 'ORG')\n",
        "s2= Span(doc, 5, 6, label= 'ORG')\n",
        "\n",
        "doc.set_ents([s1, s2], default= 'unmodified')\n"
      ],
      "metadata": {
        "id": "QDd745wXSctM"
      },
      "execution_count": 13,
      "outputs": []
    },
    {
      "cell_type": "code",
      "source": [
        "for ent in doc.ents:\n",
        "  print(ent.text, ', ', ent.label_)"
      ],
      "metadata": {
        "colab": {
          "base_uri": "https://localhost:8080/"
        },
        "id": "pf_UodRdSxlk",
        "outputId": "788f686c-d4ff-40d9-b134-3ba5237bebe1"
      },
      "execution_count": 14,
      "outputs": [
        {
          "output_type": "stream",
          "name": "stdout",
          "text": [
            "Tesla ,  ORG\n",
            "Twitter ,  ORG\n",
            "65$ billion ,  MONEY\n"
          ]
        }
      ]
    }
  ]
}