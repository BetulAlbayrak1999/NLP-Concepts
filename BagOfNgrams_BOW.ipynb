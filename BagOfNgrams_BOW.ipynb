{
  "nbformat": 4,
  "nbformat_minor": 0,
  "metadata": {
    "colab": {
      "provenance": []
    },
    "kernelspec": {
      "name": "python3",
      "display_name": "Python 3"
    },
    "language_info": {
      "name": "python"
    }
  },
  "cells": [
    {
      "cell_type": "markdown",
      "source": [
        "### Bag of N grams\n",
        "### Generate N grams using CountVectorize"
      ],
      "metadata": {
        "id": "lAD5JYjHmAEY"
      }
    },
    {
      "cell_type": "code",
      "execution_count": 30,
      "metadata": {
        "id": "sPO0i8SNl8vh"
      },
      "outputs": [],
      "source": [
        "from sklearn.feature_extraction.text import CountVectorizer\n"
      ]
    },
    {
      "cell_type": "code",
      "source": [
        "v= CountVectorizer()\n",
        "v.fit(['Thor Hathodawala is looking for a job'])\n",
        "print(v.vocabulary_)"
      ],
      "metadata": {
        "colab": {
          "base_uri": "https://localhost:8080/"
        },
        "id": "c33Kr8CUmLe5",
        "outputId": "9da2082c-f1c1-40a4-ed90-e8e57c657eb2"
      },
      "execution_count": 31,
      "outputs": [
        {
          "output_type": "stream",
          "name": "stdout",
          "text": [
            "{'thor': 5, 'hathodawala': 1, 'is': 2, 'looking': 4, 'for': 0, 'job': 3}\n"
          ]
        }
      ]
    },
    {
      "cell_type": "code",
      "source": [
        "## Uni-Gram\n",
        "v= CountVectorizer(ngram_range=(1, 1))\n",
        "v.fit(['Thor Hathodawala is looking  for a job'])\n",
        "print(v.vocabulary_)"
      ],
      "metadata": {
        "colab": {
          "base_uri": "https://localhost:8080/"
        },
        "id": "_BlXcBzsmNB_",
        "outputId": "fe60d777-0cf6-4482-d049-e55d6afdf40d"
      },
      "execution_count": 32,
      "outputs": [
        {
          "output_type": "stream",
          "name": "stdout",
          "text": [
            "{'thor': 5, 'hathodawala': 1, 'is': 2, 'looking': 4, 'for': 0, 'job': 3}\n"
          ]
        }
      ]
    },
    {
      "cell_type": "code",
      "source": [
        "## Bi-Gram\n",
        "v=CountVectorizer()\n",
        "v.fit(['Thor Hathodawala is looking for a job'])\n",
        "print(v.vocabulary_)"
      ],
      "metadata": {
        "colab": {
          "base_uri": "https://localhost:8080/"
        },
        "id": "FC1PC_QxmQec",
        "outputId": "e496ae3e-f417-45eb-c077-9bc5b4560b08"
      },
      "execution_count": 33,
      "outputs": [
        {
          "output_type": "stream",
          "name": "stdout",
          "text": [
            "{'thor': 5, 'hathodawala': 1, 'is': 2, 'looking': 4, 'for': 0, 'job': 3}\n"
          ]
        }
      ]
    },
    {
      "cell_type": "code",
      "source": [
        "## Tri-Gram\n",
        "v= CountVectorizer()\n",
        "v.fit(['Thor Hathodawala is looking for a job'])\n",
        "print(v.vocabulary_)"
      ],
      "metadata": {
        "colab": {
          "base_uri": "https://localhost:8080/"
        },
        "id": "WnBBBuX9mW4L",
        "outputId": "a9357878-d140-4d43-efa6-8d18296af4f8"
      },
      "execution_count": 34,
      "outputs": [
        {
          "output_type": "stream",
          "name": "stdout",
          "text": [
            "{'thor': 5, 'hathodawala': 1, 'is': 2, 'looking': 4, 'for': 0, 'job': 3}\n"
          ]
        }
      ]
    },
    {
      "cell_type": "markdown",
      "source": [
        "### Now, taking a sample collection of text documents, preprocess them to remove stop words, lemmatize etc.\n",
        "### Then, Generating Bag of 1 grams and 2 grams from it.\n"
      ],
      "metadata": {
        "id": "rBmUiMEAmZLz"
      }
    },
    {
      "cell_type": "code",
      "source": [
        "corpus= [\n",
        "    \"Thor ate pizza\",\n",
        "    \"Loki is tall\",\n",
        "    \"Loki is eating pizza\"\n",
        "]"
      ],
      "metadata": {
        "id": "XMM4A3itmdd-"
      },
      "execution_count": 35,
      "outputs": []
    },
    {
      "cell_type": "code",
      "source": [
        "import spacy"
      ],
      "metadata": {
        "id": "BLTZycwVmhtp"
      },
      "execution_count": 36,
      "outputs": []
    },
    {
      "cell_type": "code",
      "source": [
        "# load english language model and create npl object from it\n",
        "nlp= spacy.load('en_core_web_sm')\n",
        "\n",
        "def preprocess(text):\n",
        "  #remove stop words and lemmatize the text\n",
        "  doc= nlp(text)\n",
        "  filtered_tokens= []\n",
        "  for token in  doc:\n",
        "\n",
        "    if token.is_stop or token.is_punct:\n",
        "      continue\n",
        "\n",
        "    filtered_tokens.append(token.lemma_)\n",
        "  return ' '.join(filtered_tokens)"
      ],
      "metadata": {
        "id": "PC73F7punDoo"
      },
      "execution_count": 38,
      "outputs": []
    },
    {
      "cell_type": "code",
      "source": [
        "preprocess('Thor ate pizza')"
      ],
      "metadata": {
        "colab": {
          "base_uri": "https://localhost:8080/",
          "height": 36
        },
        "id": "UFuUF9nWn3EQ",
        "outputId": "d43fa01c-04f7-4f6b-90b5-b56b6071bdf9"
      },
      "execution_count": 23,
      "outputs": [
        {
          "output_type": "execute_result",
          "data": {
            "text/plain": [
              "'thor eat pizza'"
            ],
            "application/vnd.google.colaboratory.intrinsic+json": {
              "type": "string"
            }
          },
          "metadata": {},
          "execution_count": 23
        }
      ]
    },
    {
      "cell_type": "code",
      "source": [
        "corpus_processed= [preprocess(text) for text in corpus]\n",
        "print(corpus_processed)"
      ],
      "metadata": {
        "colab": {
          "base_uri": "https://localhost:8080/"
        },
        "id": "I-yo7Husn7dE",
        "outputId": "2f14f311-f56c-4094-93de-2e29478e7f33"
      },
      "execution_count": 39,
      "outputs": [
        {
          "output_type": "stream",
          "name": "stdout",
          "text": [
            "['thor eat pizza', 'Loki tall', 'Loki eat pizza']\n"
          ]
        }
      ]
    },
    {
      "cell_type": "code",
      "source": [
        "v= CountVectorizer(ngram_range=(1, 2))\n",
        "v.fit(corpus_processed)\n",
        "print(v.vocabulary_)"
      ],
      "metadata": {
        "colab": {
          "base_uri": "https://localhost:8080/"
        },
        "id": "1Qj-RcaIqSYF",
        "outputId": "c049068a-40ef-49c4-9a91-08b3f93edc72"
      },
      "execution_count": 40,
      "outputs": [
        {
          "output_type": "stream",
          "name": "stdout",
          "text": [
            "{'thor': 7, 'eat': 0, 'pizza': 5, 'thor eat': 8, 'eat pizza': 1, 'loki': 2, 'tall': 6, 'loki tall': 4, 'loki eat': 3}\n"
          ]
        }
      ]
    },
    {
      "cell_type": "markdown",
      "source": [
        "Now, Generating Bag of Ngram vector for few sample documents"
      ],
      "metadata": {
        "id": "nk3TT9uzr5JX"
      }
    },
    {
      "cell_type": "code",
      "source": [
        "v.transform(['Thor eat pizza']).toarray()"
      ],
      "metadata": {
        "colab": {
          "base_uri": "https://localhost:8080/"
        },
        "id": "n3nAYE3pqw7N",
        "outputId": "5a453fb9-51c8-4af0-8f2d-3257f83060f6"
      },
      "execution_count": 41,
      "outputs": [
        {
          "output_type": "execute_result",
          "data": {
            "text/plain": [
              "array([[1, 1, 0, 0, 0, 1, 0, 1, 1]])"
            ]
          },
          "metadata": {},
          "execution_count": 41
        }
      ]
    },
    {
      "cell_type": "markdown",
      "source": [
        "### News Category Classification Problem\n",
        "Okay now that we know basics of BAG of n grams vectorizer 😎 It is the time to work on a real problem. Here we want to do a news category classification. We will use bag of n-grams and traing a machine learning model that can categorize any news into one of the following categories,\n",
        "\n",
        "1-BUSINESS\n",
        "\n",
        "2-SPORTS\n",
        "\n",
        "3-CRIME\n",
        "\n",
        "4-SCIENCE"
      ],
      "metadata": {
        "id": "oy3RdDA5sKXt"
      }
    },
    {
      "cell_type": "code",
      "source": [
        "import pandas as pd\n",
        "df = pd.read_json('/News_Category_Dataset_v3.json', lines=True, encoding='utf-8')[['headline', 'category']]\n",
        "print(df.shape)\n",
        "print(df.head())"
      ],
      "metadata": {
        "colab": {
          "base_uri": "https://localhost:8080/"
        },
        "id": "drjChuRIsGNx",
        "outputId": "877c52c6-5fd8-4a14-a1a1-a55f7a197b99"
      },
      "execution_count": 44,
      "outputs": [
        {
          "output_type": "stream",
          "name": "stdout",
          "text": [
            "(209527, 2)\n",
            "                                            headline   category\n",
            "0  Over 4 Million Americans Roll Up Sleeves For O...  U.S. NEWS\n",
            "1  American Airlines Flyer Charged, Banned For Li...  U.S. NEWS\n",
            "2  23 Of The Funniest Tweets About Cats And Dogs ...     COMEDY\n",
            "3  The Funniest Tweets From Parents This Week (Se...  PARENTING\n",
            "4  Woman Who Called Cops On Black Bird-Watcher Lo...  U.S. NEWS\n"
          ]
        }
      ]
    },
    {
      "cell_type": "code",
      "source": [
        "df.category.value_counts()"
      ],
      "metadata": {
        "colab": {
          "base_uri": "https://localhost:8080/",
          "height": 1000
        },
        "id": "dSANNc7vxBlS",
        "outputId": "f7cd99d5-8891-4f81-fc0f-0a3386371e1d"
      },
      "execution_count": 45,
      "outputs": [
        {
          "output_type": "execute_result",
          "data": {
            "text/plain": [
              "category\n",
              "POLITICS          35602\n",
              "WELLNESS          17945\n",
              "ENTERTAINMENT     17362\n",
              "TRAVEL             9900\n",
              "STYLE & BEAUTY     9814\n",
              "PARENTING          8791\n",
              "HEALTHY LIVING     6694\n",
              "QUEER VOICES       6347\n",
              "FOOD & DRINK       6340\n",
              "BUSINESS           5992\n",
              "COMEDY             5400\n",
              "SPORTS             5077\n",
              "BLACK VOICES       4583\n",
              "HOME & LIVING      4320\n",
              "PARENTS            3955\n",
              "THE WORLDPOST      3664\n",
              "WEDDINGS           3653\n",
              "WOMEN              3572\n",
              "CRIME              3562\n",
              "IMPACT             3484\n",
              "DIVORCE            3426\n",
              "WORLD NEWS         3299\n",
              "MEDIA              2944\n",
              "WEIRD NEWS         2777\n",
              "GREEN              2622\n",
              "WORLDPOST          2579\n",
              "RELIGION           2577\n",
              "STYLE              2254\n",
              "SCIENCE            2206\n",
              "TECH               2104\n",
              "TASTE              2096\n",
              "MONEY              1756\n",
              "ARTS               1509\n",
              "ENVIRONMENT        1444\n",
              "FIFTY              1401\n",
              "GOOD NEWS          1398\n",
              "U.S. NEWS          1377\n",
              "ARTS & CULTURE     1339\n",
              "COLLEGE            1144\n",
              "LATINO VOICES      1130\n",
              "CULTURE & ARTS     1074\n",
              "EDUCATION          1014\n",
              "Name: count, dtype: int64"
            ],
            "text/html": [
              "<div>\n",
              "<style scoped>\n",
              "    .dataframe tbody tr th:only-of-type {\n",
              "        vertical-align: middle;\n",
              "    }\n",
              "\n",
              "    .dataframe tbody tr th {\n",
              "        vertical-align: top;\n",
              "    }\n",
              "\n",
              "    .dataframe thead th {\n",
              "        text-align: right;\n",
              "    }\n",
              "</style>\n",
              "<table border=\"1\" class=\"dataframe\">\n",
              "  <thead>\n",
              "    <tr style=\"text-align: right;\">\n",
              "      <th></th>\n",
              "      <th>count</th>\n",
              "    </tr>\n",
              "    <tr>\n",
              "      <th>category</th>\n",
              "      <th></th>\n",
              "    </tr>\n",
              "  </thead>\n",
              "  <tbody>\n",
              "    <tr>\n",
              "      <th>POLITICS</th>\n",
              "      <td>35602</td>\n",
              "    </tr>\n",
              "    <tr>\n",
              "      <th>WELLNESS</th>\n",
              "      <td>17945</td>\n",
              "    </tr>\n",
              "    <tr>\n",
              "      <th>ENTERTAINMENT</th>\n",
              "      <td>17362</td>\n",
              "    </tr>\n",
              "    <tr>\n",
              "      <th>TRAVEL</th>\n",
              "      <td>9900</td>\n",
              "    </tr>\n",
              "    <tr>\n",
              "      <th>STYLE &amp; BEAUTY</th>\n",
              "      <td>9814</td>\n",
              "    </tr>\n",
              "    <tr>\n",
              "      <th>PARENTING</th>\n",
              "      <td>8791</td>\n",
              "    </tr>\n",
              "    <tr>\n",
              "      <th>HEALTHY LIVING</th>\n",
              "      <td>6694</td>\n",
              "    </tr>\n",
              "    <tr>\n",
              "      <th>QUEER VOICES</th>\n",
              "      <td>6347</td>\n",
              "    </tr>\n",
              "    <tr>\n",
              "      <th>FOOD &amp; DRINK</th>\n",
              "      <td>6340</td>\n",
              "    </tr>\n",
              "    <tr>\n",
              "      <th>BUSINESS</th>\n",
              "      <td>5992</td>\n",
              "    </tr>\n",
              "    <tr>\n",
              "      <th>COMEDY</th>\n",
              "      <td>5400</td>\n",
              "    </tr>\n",
              "    <tr>\n",
              "      <th>SPORTS</th>\n",
              "      <td>5077</td>\n",
              "    </tr>\n",
              "    <tr>\n",
              "      <th>BLACK VOICES</th>\n",
              "      <td>4583</td>\n",
              "    </tr>\n",
              "    <tr>\n",
              "      <th>HOME &amp; LIVING</th>\n",
              "      <td>4320</td>\n",
              "    </tr>\n",
              "    <tr>\n",
              "      <th>PARENTS</th>\n",
              "      <td>3955</td>\n",
              "    </tr>\n",
              "    <tr>\n",
              "      <th>THE WORLDPOST</th>\n",
              "      <td>3664</td>\n",
              "    </tr>\n",
              "    <tr>\n",
              "      <th>WEDDINGS</th>\n",
              "      <td>3653</td>\n",
              "    </tr>\n",
              "    <tr>\n",
              "      <th>WOMEN</th>\n",
              "      <td>3572</td>\n",
              "    </tr>\n",
              "    <tr>\n",
              "      <th>CRIME</th>\n",
              "      <td>3562</td>\n",
              "    </tr>\n",
              "    <tr>\n",
              "      <th>IMPACT</th>\n",
              "      <td>3484</td>\n",
              "    </tr>\n",
              "    <tr>\n",
              "      <th>DIVORCE</th>\n",
              "      <td>3426</td>\n",
              "    </tr>\n",
              "    <tr>\n",
              "      <th>WORLD NEWS</th>\n",
              "      <td>3299</td>\n",
              "    </tr>\n",
              "    <tr>\n",
              "      <th>MEDIA</th>\n",
              "      <td>2944</td>\n",
              "    </tr>\n",
              "    <tr>\n",
              "      <th>WEIRD NEWS</th>\n",
              "      <td>2777</td>\n",
              "    </tr>\n",
              "    <tr>\n",
              "      <th>GREEN</th>\n",
              "      <td>2622</td>\n",
              "    </tr>\n",
              "    <tr>\n",
              "      <th>WORLDPOST</th>\n",
              "      <td>2579</td>\n",
              "    </tr>\n",
              "    <tr>\n",
              "      <th>RELIGION</th>\n",
              "      <td>2577</td>\n",
              "    </tr>\n",
              "    <tr>\n",
              "      <th>STYLE</th>\n",
              "      <td>2254</td>\n",
              "    </tr>\n",
              "    <tr>\n",
              "      <th>SCIENCE</th>\n",
              "      <td>2206</td>\n",
              "    </tr>\n",
              "    <tr>\n",
              "      <th>TECH</th>\n",
              "      <td>2104</td>\n",
              "    </tr>\n",
              "    <tr>\n",
              "      <th>TASTE</th>\n",
              "      <td>2096</td>\n",
              "    </tr>\n",
              "    <tr>\n",
              "      <th>MONEY</th>\n",
              "      <td>1756</td>\n",
              "    </tr>\n",
              "    <tr>\n",
              "      <th>ARTS</th>\n",
              "      <td>1509</td>\n",
              "    </tr>\n",
              "    <tr>\n",
              "      <th>ENVIRONMENT</th>\n",
              "      <td>1444</td>\n",
              "    </tr>\n",
              "    <tr>\n",
              "      <th>FIFTY</th>\n",
              "      <td>1401</td>\n",
              "    </tr>\n",
              "    <tr>\n",
              "      <th>GOOD NEWS</th>\n",
              "      <td>1398</td>\n",
              "    </tr>\n",
              "    <tr>\n",
              "      <th>U.S. NEWS</th>\n",
              "      <td>1377</td>\n",
              "    </tr>\n",
              "    <tr>\n",
              "      <th>ARTS &amp; CULTURE</th>\n",
              "      <td>1339</td>\n",
              "    </tr>\n",
              "    <tr>\n",
              "      <th>COLLEGE</th>\n",
              "      <td>1144</td>\n",
              "    </tr>\n",
              "    <tr>\n",
              "      <th>LATINO VOICES</th>\n",
              "      <td>1130</td>\n",
              "    </tr>\n",
              "    <tr>\n",
              "      <th>CULTURE &amp; ARTS</th>\n",
              "      <td>1074</td>\n",
              "    </tr>\n",
              "    <tr>\n",
              "      <th>EDUCATION</th>\n",
              "      <td>1014</td>\n",
              "    </tr>\n",
              "  </tbody>\n",
              "</table>\n",
              "</div><br><label><b>dtype:</b> int64</label>"
            ]
          },
          "metadata": {},
          "execution_count": 45
        }
      ]
    },
    {
      "cell_type": "code",
      "source": [
        "# Select only rows where the category is in a list of desired values\n",
        "desired_categories= ['CRIME', 'COMEDY', 'EDUCATION', 'SPORTS']\n",
        "df_new= df[df['category'].isin(desired_categories)]\n",
        "df_new.head()"
      ],
      "metadata": {
        "colab": {
          "base_uri": "https://localhost:8080/",
          "height": 206
        },
        "id": "h-F5snpmyLsU",
        "outputId": "65487a3e-6a65-484a-8ced-63937fca8b81"
      },
      "execution_count": 46,
      "outputs": [
        {
          "output_type": "execute_result",
          "data": {
            "text/plain": [
              "                                             headline category\n",
              "2   23 Of The Funniest Tweets About Cats And Dogs ...   COMEDY\n",
              "17  Maury Wills, Base-Stealing Shortstop For Dodge...   SPORTS\n",
              "26  Las Vegas Aces Win First WNBA Title, Chelsea G...   SPORTS\n",
              "61  Boston Marathon To Make Race More Inclusive Fo...   SPORTS\n",
              "62  Anthony Varvaro, MLB Pitcher Turned Transit Co...   SPORTS"
            ],
            "text/html": [
              "\n",
              "  <div id=\"df-4b465961-38d0-4479-a493-b1f5c18eb8f9\" class=\"colab-df-container\">\n",
              "    <div>\n",
              "<style scoped>\n",
              "    .dataframe tbody tr th:only-of-type {\n",
              "        vertical-align: middle;\n",
              "    }\n",
              "\n",
              "    .dataframe tbody tr th {\n",
              "        vertical-align: top;\n",
              "    }\n",
              "\n",
              "    .dataframe thead th {\n",
              "        text-align: right;\n",
              "    }\n",
              "</style>\n",
              "<table border=\"1\" class=\"dataframe\">\n",
              "  <thead>\n",
              "    <tr style=\"text-align: right;\">\n",
              "      <th></th>\n",
              "      <th>headline</th>\n",
              "      <th>category</th>\n",
              "    </tr>\n",
              "  </thead>\n",
              "  <tbody>\n",
              "    <tr>\n",
              "      <th>2</th>\n",
              "      <td>23 Of The Funniest Tweets About Cats And Dogs ...</td>\n",
              "      <td>COMEDY</td>\n",
              "    </tr>\n",
              "    <tr>\n",
              "      <th>17</th>\n",
              "      <td>Maury Wills, Base-Stealing Shortstop For Dodge...</td>\n",
              "      <td>SPORTS</td>\n",
              "    </tr>\n",
              "    <tr>\n",
              "      <th>26</th>\n",
              "      <td>Las Vegas Aces Win First WNBA Title, Chelsea G...</td>\n",
              "      <td>SPORTS</td>\n",
              "    </tr>\n",
              "    <tr>\n",
              "      <th>61</th>\n",
              "      <td>Boston Marathon To Make Race More Inclusive Fo...</td>\n",
              "      <td>SPORTS</td>\n",
              "    </tr>\n",
              "    <tr>\n",
              "      <th>62</th>\n",
              "      <td>Anthony Varvaro, MLB Pitcher Turned Transit Co...</td>\n",
              "      <td>SPORTS</td>\n",
              "    </tr>\n",
              "  </tbody>\n",
              "</table>\n",
              "</div>\n",
              "    <div class=\"colab-df-buttons\">\n",
              "\n",
              "  <div class=\"colab-df-container\">\n",
              "    <button class=\"colab-df-convert\" onclick=\"convertToInteractive('df-4b465961-38d0-4479-a493-b1f5c18eb8f9')\"\n",
              "            title=\"Convert this dataframe to an interactive table.\"\n",
              "            style=\"display:none;\">\n",
              "\n",
              "  <svg xmlns=\"http://www.w3.org/2000/svg\" height=\"24px\" viewBox=\"0 -960 960 960\">\n",
              "    <path d=\"M120-120v-720h720v720H120Zm60-500h600v-160H180v160Zm220 220h160v-160H400v160Zm0 220h160v-160H400v160ZM180-400h160v-160H180v160Zm440 0h160v-160H620v160ZM180-180h160v-160H180v160Zm440 0h160v-160H620v160Z\"/>\n",
              "  </svg>\n",
              "    </button>\n",
              "\n",
              "  <style>\n",
              "    .colab-df-container {\n",
              "      display:flex;\n",
              "      gap: 12px;\n",
              "    }\n",
              "\n",
              "    .colab-df-convert {\n",
              "      background-color: #E8F0FE;\n",
              "      border: none;\n",
              "      border-radius: 50%;\n",
              "      cursor: pointer;\n",
              "      display: none;\n",
              "      fill: #1967D2;\n",
              "      height: 32px;\n",
              "      padding: 0 0 0 0;\n",
              "      width: 32px;\n",
              "    }\n",
              "\n",
              "    .colab-df-convert:hover {\n",
              "      background-color: #E2EBFA;\n",
              "      box-shadow: 0px 1px 2px rgba(60, 64, 67, 0.3), 0px 1px 3px 1px rgba(60, 64, 67, 0.15);\n",
              "      fill: #174EA6;\n",
              "    }\n",
              "\n",
              "    .colab-df-buttons div {\n",
              "      margin-bottom: 4px;\n",
              "    }\n",
              "\n",
              "    [theme=dark] .colab-df-convert {\n",
              "      background-color: #3B4455;\n",
              "      fill: #D2E3FC;\n",
              "    }\n",
              "\n",
              "    [theme=dark] .colab-df-convert:hover {\n",
              "      background-color: #434B5C;\n",
              "      box-shadow: 0px 1px 3px 1px rgba(0, 0, 0, 0.15);\n",
              "      filter: drop-shadow(0px 1px 2px rgba(0, 0, 0, 0.3));\n",
              "      fill: #FFFFFF;\n",
              "    }\n",
              "  </style>\n",
              "\n",
              "    <script>\n",
              "      const buttonEl =\n",
              "        document.querySelector('#df-4b465961-38d0-4479-a493-b1f5c18eb8f9 button.colab-df-convert');\n",
              "      buttonEl.style.display =\n",
              "        google.colab.kernel.accessAllowed ? 'block' : 'none';\n",
              "\n",
              "      async function convertToInteractive(key) {\n",
              "        const element = document.querySelector('#df-4b465961-38d0-4479-a493-b1f5c18eb8f9');\n",
              "        const dataTable =\n",
              "          await google.colab.kernel.invokeFunction('convertToInteractive',\n",
              "                                                    [key], {});\n",
              "        if (!dataTable) return;\n",
              "\n",
              "        const docLinkHtml = 'Like what you see? Visit the ' +\n",
              "          '<a target=\"_blank\" href=https://colab.research.google.com/notebooks/data_table.ipynb>data table notebook</a>'\n",
              "          + ' to learn more about interactive tables.';\n",
              "        element.innerHTML = '';\n",
              "        dataTable['output_type'] = 'display_data';\n",
              "        await google.colab.output.renderOutput(dataTable, element);\n",
              "        const docLink = document.createElement('div');\n",
              "        docLink.innerHTML = docLinkHtml;\n",
              "        element.appendChild(docLink);\n",
              "      }\n",
              "    </script>\n",
              "  </div>\n",
              "\n",
              "\n",
              "<div id=\"df-0f84399a-5cad-45e1-a3e8-fedc4fecd840\">\n",
              "  <button class=\"colab-df-quickchart\" onclick=\"quickchart('df-0f84399a-5cad-45e1-a3e8-fedc4fecd840')\"\n",
              "            title=\"Suggest charts\"\n",
              "            style=\"display:none;\">\n",
              "\n",
              "<svg xmlns=\"http://www.w3.org/2000/svg\" height=\"24px\"viewBox=\"0 0 24 24\"\n",
              "     width=\"24px\">\n",
              "    <g>\n",
              "        <path d=\"M19 3H5c-1.1 0-2 .9-2 2v14c0 1.1.9 2 2 2h14c1.1 0 2-.9 2-2V5c0-1.1-.9-2-2-2zM9 17H7v-7h2v7zm4 0h-2V7h2v10zm4 0h-2v-4h2v4z\"/>\n",
              "    </g>\n",
              "</svg>\n",
              "  </button>\n",
              "\n",
              "<style>\n",
              "  .colab-df-quickchart {\n",
              "      --bg-color: #E8F0FE;\n",
              "      --fill-color: #1967D2;\n",
              "      --hover-bg-color: #E2EBFA;\n",
              "      --hover-fill-color: #174EA6;\n",
              "      --disabled-fill-color: #AAA;\n",
              "      --disabled-bg-color: #DDD;\n",
              "  }\n",
              "\n",
              "  [theme=dark] .colab-df-quickchart {\n",
              "      --bg-color: #3B4455;\n",
              "      --fill-color: #D2E3FC;\n",
              "      --hover-bg-color: #434B5C;\n",
              "      --hover-fill-color: #FFFFFF;\n",
              "      --disabled-bg-color: #3B4455;\n",
              "      --disabled-fill-color: #666;\n",
              "  }\n",
              "\n",
              "  .colab-df-quickchart {\n",
              "    background-color: var(--bg-color);\n",
              "    border: none;\n",
              "    border-radius: 50%;\n",
              "    cursor: pointer;\n",
              "    display: none;\n",
              "    fill: var(--fill-color);\n",
              "    height: 32px;\n",
              "    padding: 0;\n",
              "    width: 32px;\n",
              "  }\n",
              "\n",
              "  .colab-df-quickchart:hover {\n",
              "    background-color: var(--hover-bg-color);\n",
              "    box-shadow: 0 1px 2px rgba(60, 64, 67, 0.3), 0 1px 3px 1px rgba(60, 64, 67, 0.15);\n",
              "    fill: var(--button-hover-fill-color);\n",
              "  }\n",
              "\n",
              "  .colab-df-quickchart-complete:disabled,\n",
              "  .colab-df-quickchart-complete:disabled:hover {\n",
              "    background-color: var(--disabled-bg-color);\n",
              "    fill: var(--disabled-fill-color);\n",
              "    box-shadow: none;\n",
              "  }\n",
              "\n",
              "  .colab-df-spinner {\n",
              "    border: 2px solid var(--fill-color);\n",
              "    border-color: transparent;\n",
              "    border-bottom-color: var(--fill-color);\n",
              "    animation:\n",
              "      spin 1s steps(1) infinite;\n",
              "  }\n",
              "\n",
              "  @keyframes spin {\n",
              "    0% {\n",
              "      border-color: transparent;\n",
              "      border-bottom-color: var(--fill-color);\n",
              "      border-left-color: var(--fill-color);\n",
              "    }\n",
              "    20% {\n",
              "      border-color: transparent;\n",
              "      border-left-color: var(--fill-color);\n",
              "      border-top-color: var(--fill-color);\n",
              "    }\n",
              "    30% {\n",
              "      border-color: transparent;\n",
              "      border-left-color: var(--fill-color);\n",
              "      border-top-color: var(--fill-color);\n",
              "      border-right-color: var(--fill-color);\n",
              "    }\n",
              "    40% {\n",
              "      border-color: transparent;\n",
              "      border-right-color: var(--fill-color);\n",
              "      border-top-color: var(--fill-color);\n",
              "    }\n",
              "    60% {\n",
              "      border-color: transparent;\n",
              "      border-right-color: var(--fill-color);\n",
              "    }\n",
              "    80% {\n",
              "      border-color: transparent;\n",
              "      border-right-color: var(--fill-color);\n",
              "      border-bottom-color: var(--fill-color);\n",
              "    }\n",
              "    90% {\n",
              "      border-color: transparent;\n",
              "      border-bottom-color: var(--fill-color);\n",
              "    }\n",
              "  }\n",
              "</style>\n",
              "\n",
              "  <script>\n",
              "    async function quickchart(key) {\n",
              "      const quickchartButtonEl =\n",
              "        document.querySelector('#' + key + ' button');\n",
              "      quickchartButtonEl.disabled = true;  // To prevent multiple clicks.\n",
              "      quickchartButtonEl.classList.add('colab-df-spinner');\n",
              "      try {\n",
              "        const charts = await google.colab.kernel.invokeFunction(\n",
              "            'suggestCharts', [key], {});\n",
              "      } catch (error) {\n",
              "        console.error('Error during call to suggestCharts:', error);\n",
              "      }\n",
              "      quickchartButtonEl.classList.remove('colab-df-spinner');\n",
              "      quickchartButtonEl.classList.add('colab-df-quickchart-complete');\n",
              "    }\n",
              "    (() => {\n",
              "      let quickchartButtonEl =\n",
              "        document.querySelector('#df-0f84399a-5cad-45e1-a3e8-fedc4fecd840 button');\n",
              "      quickchartButtonEl.style.display =\n",
              "        google.colab.kernel.accessAllowed ? 'block' : 'none';\n",
              "    })();\n",
              "  </script>\n",
              "</div>\n",
              "\n",
              "    </div>\n",
              "  </div>\n"
            ],
            "application/vnd.google.colaboratory.intrinsic+json": {
              "type": "dataframe",
              "variable_name": "df_new",
              "summary": "{\n  \"name\": \"df_new\",\n  \"rows\": 15053,\n  \"fields\": [\n    {\n      \"column\": \"headline\",\n      \"properties\": {\n        \"dtype\": \"string\",\n        \"num_unique_values\": 14990,\n        \"samples\": [\n          \"One Search of a Stock Photo Site Will Show You Every Sexist Stereotype You Can Think of\",\n          \"Stephen Curry And Wife Ayesha Welcome Their Second Child, Ryan Carson Curry\",\n          \"What's Wrong With James Harden?\"\n        ],\n        \"semantic_type\": \"\",\n        \"description\": \"\"\n      }\n    },\n    {\n      \"column\": \"category\",\n      \"properties\": {\n        \"dtype\": \"category\",\n        \"num_unique_values\": 4,\n        \"samples\": [\n          \"SPORTS\",\n          \"CRIME\",\n          \"COMEDY\"\n        ],\n        \"semantic_type\": \"\",\n        \"description\": \"\"\n      }\n    }\n  ]\n}"
            }
          },
          "metadata": {},
          "execution_count": 46
        }
      ]
    },
    {
      "cell_type": "code",
      "source": [
        "print(df_new.headline.shape)\n",
        "print(df_new.category.shape)"
      ],
      "metadata": {
        "colab": {
          "base_uri": "https://localhost:8080/"
        },
        "id": "fMGRiPqAyxXL",
        "outputId": "1646e3f8-7ab8-4616-8b34-61d3c8feb1b4"
      },
      "execution_count": 47,
      "outputs": [
        {
          "output_type": "stream",
          "name": "stdout",
          "text": [
            "(15053,)\n",
            "(15053,)\n"
          ]
        }
      ]
    },
    {
      "cell_type": "code",
      "source": [
        "df_new.category.value_counts()"
      ],
      "metadata": {
        "colab": {
          "base_uri": "https://localhost:8080/",
          "height": 241
        },
        "id": "cyu6lLNjy3xP",
        "outputId": "b0a0172c-babe-4409-b70f-7c9958ab8ec4"
      },
      "execution_count": 48,
      "outputs": [
        {
          "output_type": "execute_result",
          "data": {
            "text/plain": [
              "category\n",
              "COMEDY       5400\n",
              "SPORTS       5077\n",
              "CRIME        3562\n",
              "EDUCATION    1014\n",
              "Name: count, dtype: int64"
            ],
            "text/html": [
              "<div>\n",
              "<style scoped>\n",
              "    .dataframe tbody tr th:only-of-type {\n",
              "        vertical-align: middle;\n",
              "    }\n",
              "\n",
              "    .dataframe tbody tr th {\n",
              "        vertical-align: top;\n",
              "    }\n",
              "\n",
              "    .dataframe thead th {\n",
              "        text-align: right;\n",
              "    }\n",
              "</style>\n",
              "<table border=\"1\" class=\"dataframe\">\n",
              "  <thead>\n",
              "    <tr style=\"text-align: right;\">\n",
              "      <th></th>\n",
              "      <th>count</th>\n",
              "    </tr>\n",
              "    <tr>\n",
              "      <th>category</th>\n",
              "      <th></th>\n",
              "    </tr>\n",
              "  </thead>\n",
              "  <tbody>\n",
              "    <tr>\n",
              "      <th>COMEDY</th>\n",
              "      <td>5400</td>\n",
              "    </tr>\n",
              "    <tr>\n",
              "      <th>SPORTS</th>\n",
              "      <td>5077</td>\n",
              "    </tr>\n",
              "    <tr>\n",
              "      <th>CRIME</th>\n",
              "      <td>3562</td>\n",
              "    </tr>\n",
              "    <tr>\n",
              "      <th>EDUCATION</th>\n",
              "      <td>1014</td>\n",
              "    </tr>\n",
              "  </tbody>\n",
              "</table>\n",
              "</div><br><label><b>dtype:</b> int64</label>"
            ]
          },
          "metadata": {},
          "execution_count": 48
        }
      ]
    },
    {
      "cell_type": "code",
      "source": [
        "min_samples= 1014 #we have these many of education articles\n",
        "df_comedy= df_new[df_new.category== 'COMEDY'].sample(min_samples, random_state= 2022)\n",
        "df_sports= df_new[df_new.category== 'SPORTS'].sample(min_samples, random_state= 2022)\n",
        "df_crime= df_new[df_new.category== 'CRIME'].sample(min_samples, random_state= 2022)\n",
        "df_education= df_new[df_new.category =='EDUCATION'].sample(min_samples, random_state= 2022)\n"
      ],
      "metadata": {
        "id": "QifnNmfRy9e2"
      },
      "execution_count": 49,
      "outputs": []
    },
    {
      "cell_type": "code",
      "source": [
        "df_balanced= pd.concat([df_comedy, df_sports, df_crime, df_education], axis=0)\n",
        "df_balanced.category.value_counts()"
      ],
      "metadata": {
        "colab": {
          "base_uri": "https://localhost:8080/",
          "height": 241
        },
        "id": "g3nHcc9Y0EOj",
        "outputId": "96e1a92a-cd05-4f87-cd0c-618bd68e316b"
      },
      "execution_count": 50,
      "outputs": [
        {
          "output_type": "execute_result",
          "data": {
            "text/plain": [
              "category\n",
              "COMEDY       1014\n",
              "SPORTS       1014\n",
              "CRIME        1014\n",
              "EDUCATION    1014\n",
              "Name: count, dtype: int64"
            ],
            "text/html": [
              "<div>\n",
              "<style scoped>\n",
              "    .dataframe tbody tr th:only-of-type {\n",
              "        vertical-align: middle;\n",
              "    }\n",
              "\n",
              "    .dataframe tbody tr th {\n",
              "        vertical-align: top;\n",
              "    }\n",
              "\n",
              "    .dataframe thead th {\n",
              "        text-align: right;\n",
              "    }\n",
              "</style>\n",
              "<table border=\"1\" class=\"dataframe\">\n",
              "  <thead>\n",
              "    <tr style=\"text-align: right;\">\n",
              "      <th></th>\n",
              "      <th>count</th>\n",
              "    </tr>\n",
              "    <tr>\n",
              "      <th>category</th>\n",
              "      <th></th>\n",
              "    </tr>\n",
              "  </thead>\n",
              "  <tbody>\n",
              "    <tr>\n",
              "      <th>COMEDY</th>\n",
              "      <td>1014</td>\n",
              "    </tr>\n",
              "    <tr>\n",
              "      <th>SPORTS</th>\n",
              "      <td>1014</td>\n",
              "    </tr>\n",
              "    <tr>\n",
              "      <th>CRIME</th>\n",
              "      <td>1014</td>\n",
              "    </tr>\n",
              "    <tr>\n",
              "      <th>EDUCATION</th>\n",
              "      <td>1014</td>\n",
              "    </tr>\n",
              "  </tbody>\n",
              "</table>\n",
              "</div><br><label><b>dtype:</b> int64</label>"
            ]
          },
          "metadata": {},
          "execution_count": 50
        }
      ]
    },
    {
      "cell_type": "code",
      "source": [
        "# target ={'COMEDY': 0, 'SPORTS': 1, 'CRIME': 2, 'EDUCATION': 3}\n",
        "df_balanced['category_num']= df_balanced['category'].map({\n",
        "    'COMEDY': 0,\n",
        "    'SPORTS': 1,\n",
        "    'CRIME': 2,\n",
        "    'EDUCATION': 3\n",
        "})"
      ],
      "metadata": {
        "id": "ArKCbCuC0Wpo"
      },
      "execution_count": 51,
      "outputs": []
    },
    {
      "cell_type": "code",
      "source": [
        "df_balanced.tail()"
      ],
      "metadata": {
        "colab": {
          "base_uri": "https://localhost:8080/",
          "height": 206
        },
        "id": "pBsBYDZYUJlF",
        "outputId": "80881585-c1e4-46d1-dce4-c793a7fc42d0"
      },
      "execution_count": 64,
      "outputs": [
        {
          "output_type": "execute_result",
          "data": {
            "text/plain": [
              "                                                 headline   category  \\\n",
              "111169  The Global Search for Education: Our Global To...  EDUCATION   \n",
              "106643  Reflections of an Octogenarian IV: Whatever Ha...  EDUCATION   \n",
              "32087   For The Future Of Education, Answer The Callin...  EDUCATION   \n",
              "37277   America's Charter Schools Have A Commitment Pr...  EDUCATION   \n",
              "125885  3 Tips for Using Video Interviews to Hire Grea...  EDUCATION   \n",
              "\n",
              "        category_num                                   preprocessed_txt  \n",
              "111169             3     Global Search Education Global 12 teacher blog  \n",
              "106643             3  reflection Octogenarian IV happen Core Core Cu...  \n",
              "32087              3          Future Education Answer calling classroom  \n",
              "37277              3         America Charter Schools Commitment Problem  \n",
              "125885             3         3 tip Video Interviews hire Great Teachers  "
            ],
            "text/html": [
              "\n",
              "  <div id=\"df-cf6017f7-42ae-4cca-9018-2187e1b2faab\" class=\"colab-df-container\">\n",
              "    <div>\n",
              "<style scoped>\n",
              "    .dataframe tbody tr th:only-of-type {\n",
              "        vertical-align: middle;\n",
              "    }\n",
              "\n",
              "    .dataframe tbody tr th {\n",
              "        vertical-align: top;\n",
              "    }\n",
              "\n",
              "    .dataframe thead th {\n",
              "        text-align: right;\n",
              "    }\n",
              "</style>\n",
              "<table border=\"1\" class=\"dataframe\">\n",
              "  <thead>\n",
              "    <tr style=\"text-align: right;\">\n",
              "      <th></th>\n",
              "      <th>headline</th>\n",
              "      <th>category</th>\n",
              "      <th>category_num</th>\n",
              "      <th>preprocessed_txt</th>\n",
              "    </tr>\n",
              "  </thead>\n",
              "  <tbody>\n",
              "    <tr>\n",
              "      <th>111169</th>\n",
              "      <td>The Global Search for Education: Our Global To...</td>\n",
              "      <td>EDUCATION</td>\n",
              "      <td>3</td>\n",
              "      <td>Global Search Education Global 12 teacher blog</td>\n",
              "    </tr>\n",
              "    <tr>\n",
              "      <th>106643</th>\n",
              "      <td>Reflections of an Octogenarian IV: Whatever Ha...</td>\n",
              "      <td>EDUCATION</td>\n",
              "      <td>3</td>\n",
              "      <td>reflection Octogenarian IV happen Core Core Cu...</td>\n",
              "    </tr>\n",
              "    <tr>\n",
              "      <th>32087</th>\n",
              "      <td>For The Future Of Education, Answer The Callin...</td>\n",
              "      <td>EDUCATION</td>\n",
              "      <td>3</td>\n",
              "      <td>Future Education Answer calling classroom</td>\n",
              "    </tr>\n",
              "    <tr>\n",
              "      <th>37277</th>\n",
              "      <td>America's Charter Schools Have A Commitment Pr...</td>\n",
              "      <td>EDUCATION</td>\n",
              "      <td>3</td>\n",
              "      <td>America Charter Schools Commitment Problem</td>\n",
              "    </tr>\n",
              "    <tr>\n",
              "      <th>125885</th>\n",
              "      <td>3 Tips for Using Video Interviews to Hire Grea...</td>\n",
              "      <td>EDUCATION</td>\n",
              "      <td>3</td>\n",
              "      <td>3 tip Video Interviews hire Great Teachers</td>\n",
              "    </tr>\n",
              "  </tbody>\n",
              "</table>\n",
              "</div>\n",
              "    <div class=\"colab-df-buttons\">\n",
              "\n",
              "  <div class=\"colab-df-container\">\n",
              "    <button class=\"colab-df-convert\" onclick=\"convertToInteractive('df-cf6017f7-42ae-4cca-9018-2187e1b2faab')\"\n",
              "            title=\"Convert this dataframe to an interactive table.\"\n",
              "            style=\"display:none;\">\n",
              "\n",
              "  <svg xmlns=\"http://www.w3.org/2000/svg\" height=\"24px\" viewBox=\"0 -960 960 960\">\n",
              "    <path d=\"M120-120v-720h720v720H120Zm60-500h600v-160H180v160Zm220 220h160v-160H400v160Zm0 220h160v-160H400v160ZM180-400h160v-160H180v160Zm440 0h160v-160H620v160ZM180-180h160v-160H180v160Zm440 0h160v-160H620v160Z\"/>\n",
              "  </svg>\n",
              "    </button>\n",
              "\n",
              "  <style>\n",
              "    .colab-df-container {\n",
              "      display:flex;\n",
              "      gap: 12px;\n",
              "    }\n",
              "\n",
              "    .colab-df-convert {\n",
              "      background-color: #E8F0FE;\n",
              "      border: none;\n",
              "      border-radius: 50%;\n",
              "      cursor: pointer;\n",
              "      display: none;\n",
              "      fill: #1967D2;\n",
              "      height: 32px;\n",
              "      padding: 0 0 0 0;\n",
              "      width: 32px;\n",
              "    }\n",
              "\n",
              "    .colab-df-convert:hover {\n",
              "      background-color: #E2EBFA;\n",
              "      box-shadow: 0px 1px 2px rgba(60, 64, 67, 0.3), 0px 1px 3px 1px rgba(60, 64, 67, 0.15);\n",
              "      fill: #174EA6;\n",
              "    }\n",
              "\n",
              "    .colab-df-buttons div {\n",
              "      margin-bottom: 4px;\n",
              "    }\n",
              "\n",
              "    [theme=dark] .colab-df-convert {\n",
              "      background-color: #3B4455;\n",
              "      fill: #D2E3FC;\n",
              "    }\n",
              "\n",
              "    [theme=dark] .colab-df-convert:hover {\n",
              "      background-color: #434B5C;\n",
              "      box-shadow: 0px 1px 3px 1px rgba(0, 0, 0, 0.15);\n",
              "      filter: drop-shadow(0px 1px 2px rgba(0, 0, 0, 0.3));\n",
              "      fill: #FFFFFF;\n",
              "    }\n",
              "  </style>\n",
              "\n",
              "    <script>\n",
              "      const buttonEl =\n",
              "        document.querySelector('#df-cf6017f7-42ae-4cca-9018-2187e1b2faab button.colab-df-convert');\n",
              "      buttonEl.style.display =\n",
              "        google.colab.kernel.accessAllowed ? 'block' : 'none';\n",
              "\n",
              "      async function convertToInteractive(key) {\n",
              "        const element = document.querySelector('#df-cf6017f7-42ae-4cca-9018-2187e1b2faab');\n",
              "        const dataTable =\n",
              "          await google.colab.kernel.invokeFunction('convertToInteractive',\n",
              "                                                    [key], {});\n",
              "        if (!dataTable) return;\n",
              "\n",
              "        const docLinkHtml = 'Like what you see? Visit the ' +\n",
              "          '<a target=\"_blank\" href=https://colab.research.google.com/notebooks/data_table.ipynb>data table notebook</a>'\n",
              "          + ' to learn more about interactive tables.';\n",
              "        element.innerHTML = '';\n",
              "        dataTable['output_type'] = 'display_data';\n",
              "        await google.colab.output.renderOutput(dataTable, element);\n",
              "        const docLink = document.createElement('div');\n",
              "        docLink.innerHTML = docLinkHtml;\n",
              "        element.appendChild(docLink);\n",
              "      }\n",
              "    </script>\n",
              "  </div>\n",
              "\n",
              "\n",
              "<div id=\"df-64b183e9-d202-463e-9853-f993097162d1\">\n",
              "  <button class=\"colab-df-quickchart\" onclick=\"quickchart('df-64b183e9-d202-463e-9853-f993097162d1')\"\n",
              "            title=\"Suggest charts\"\n",
              "            style=\"display:none;\">\n",
              "\n",
              "<svg xmlns=\"http://www.w3.org/2000/svg\" height=\"24px\"viewBox=\"0 0 24 24\"\n",
              "     width=\"24px\">\n",
              "    <g>\n",
              "        <path d=\"M19 3H5c-1.1 0-2 .9-2 2v14c0 1.1.9 2 2 2h14c1.1 0 2-.9 2-2V5c0-1.1-.9-2-2-2zM9 17H7v-7h2v7zm4 0h-2V7h2v10zm4 0h-2v-4h2v4z\"/>\n",
              "    </g>\n",
              "</svg>\n",
              "  </button>\n",
              "\n",
              "<style>\n",
              "  .colab-df-quickchart {\n",
              "      --bg-color: #E8F0FE;\n",
              "      --fill-color: #1967D2;\n",
              "      --hover-bg-color: #E2EBFA;\n",
              "      --hover-fill-color: #174EA6;\n",
              "      --disabled-fill-color: #AAA;\n",
              "      --disabled-bg-color: #DDD;\n",
              "  }\n",
              "\n",
              "  [theme=dark] .colab-df-quickchart {\n",
              "      --bg-color: #3B4455;\n",
              "      --fill-color: #D2E3FC;\n",
              "      --hover-bg-color: #434B5C;\n",
              "      --hover-fill-color: #FFFFFF;\n",
              "      --disabled-bg-color: #3B4455;\n",
              "      --disabled-fill-color: #666;\n",
              "  }\n",
              "\n",
              "  .colab-df-quickchart {\n",
              "    background-color: var(--bg-color);\n",
              "    border: none;\n",
              "    border-radius: 50%;\n",
              "    cursor: pointer;\n",
              "    display: none;\n",
              "    fill: var(--fill-color);\n",
              "    height: 32px;\n",
              "    padding: 0;\n",
              "    width: 32px;\n",
              "  }\n",
              "\n",
              "  .colab-df-quickchart:hover {\n",
              "    background-color: var(--hover-bg-color);\n",
              "    box-shadow: 0 1px 2px rgba(60, 64, 67, 0.3), 0 1px 3px 1px rgba(60, 64, 67, 0.15);\n",
              "    fill: var(--button-hover-fill-color);\n",
              "  }\n",
              "\n",
              "  .colab-df-quickchart-complete:disabled,\n",
              "  .colab-df-quickchart-complete:disabled:hover {\n",
              "    background-color: var(--disabled-bg-color);\n",
              "    fill: var(--disabled-fill-color);\n",
              "    box-shadow: none;\n",
              "  }\n",
              "\n",
              "  .colab-df-spinner {\n",
              "    border: 2px solid var(--fill-color);\n",
              "    border-color: transparent;\n",
              "    border-bottom-color: var(--fill-color);\n",
              "    animation:\n",
              "      spin 1s steps(1) infinite;\n",
              "  }\n",
              "\n",
              "  @keyframes spin {\n",
              "    0% {\n",
              "      border-color: transparent;\n",
              "      border-bottom-color: var(--fill-color);\n",
              "      border-left-color: var(--fill-color);\n",
              "    }\n",
              "    20% {\n",
              "      border-color: transparent;\n",
              "      border-left-color: var(--fill-color);\n",
              "      border-top-color: var(--fill-color);\n",
              "    }\n",
              "    30% {\n",
              "      border-color: transparent;\n",
              "      border-left-color: var(--fill-color);\n",
              "      border-top-color: var(--fill-color);\n",
              "      border-right-color: var(--fill-color);\n",
              "    }\n",
              "    40% {\n",
              "      border-color: transparent;\n",
              "      border-right-color: var(--fill-color);\n",
              "      border-top-color: var(--fill-color);\n",
              "    }\n",
              "    60% {\n",
              "      border-color: transparent;\n",
              "      border-right-color: var(--fill-color);\n",
              "    }\n",
              "    80% {\n",
              "      border-color: transparent;\n",
              "      border-right-color: var(--fill-color);\n",
              "      border-bottom-color: var(--fill-color);\n",
              "    }\n",
              "    90% {\n",
              "      border-color: transparent;\n",
              "      border-bottom-color: var(--fill-color);\n",
              "    }\n",
              "  }\n",
              "</style>\n",
              "\n",
              "  <script>\n",
              "    async function quickchart(key) {\n",
              "      const quickchartButtonEl =\n",
              "        document.querySelector('#' + key + ' button');\n",
              "      quickchartButtonEl.disabled = true;  // To prevent multiple clicks.\n",
              "      quickchartButtonEl.classList.add('colab-df-spinner');\n",
              "      try {\n",
              "        const charts = await google.colab.kernel.invokeFunction(\n",
              "            'suggestCharts', [key], {});\n",
              "      } catch (error) {\n",
              "        console.error('Error during call to suggestCharts:', error);\n",
              "      }\n",
              "      quickchartButtonEl.classList.remove('colab-df-spinner');\n",
              "      quickchartButtonEl.classList.add('colab-df-quickchart-complete');\n",
              "    }\n",
              "    (() => {\n",
              "      let quickchartButtonEl =\n",
              "        document.querySelector('#df-64b183e9-d202-463e-9853-f993097162d1 button');\n",
              "      quickchartButtonEl.style.display =\n",
              "        google.colab.kernel.accessAllowed ? 'block' : 'none';\n",
              "    })();\n",
              "  </script>\n",
              "</div>\n",
              "\n",
              "    </div>\n",
              "  </div>\n"
            ],
            "application/vnd.google.colaboratory.intrinsic+json": {
              "type": "dataframe",
              "summary": "{\n  \"name\": \"df_balanced\",\n  \"rows\": 5,\n  \"fields\": [\n    {\n      \"column\": \"headline\",\n      \"properties\": {\n        \"dtype\": \"string\",\n        \"num_unique_values\": 5,\n        \"samples\": [\n          \"Reflections of an Octogenarian IV: Whatever Happened to the Core in the Core Curriculum? Now You See It, and Now You Don't\",\n          \"3 Tips for Using Video Interviews to Hire Great Teachers\",\n          \"For The Future Of Education, Answer The Calling To The Classroom\"\n        ],\n        \"semantic_type\": \"\",\n        \"description\": \"\"\n      }\n    },\n    {\n      \"column\": \"category\",\n      \"properties\": {\n        \"dtype\": \"category\",\n        \"num_unique_values\": 1,\n        \"samples\": [\n          \"EDUCATION\"\n        ],\n        \"semantic_type\": \"\",\n        \"description\": \"\"\n      }\n    },\n    {\n      \"column\": \"category_num\",\n      \"properties\": {\n        \"dtype\": \"number\",\n        \"std\": 0,\n        \"min\": 3,\n        \"max\": 3,\n        \"num_unique_values\": 1,\n        \"samples\": [\n          3\n        ],\n        \"semantic_type\": \"\",\n        \"description\": \"\"\n      }\n    },\n    {\n      \"column\": \"preprocessed_txt\",\n      \"properties\": {\n        \"dtype\": \"string\",\n        \"num_unique_values\": 5,\n        \"samples\": [\n          \"reflection Octogenarian IV happen Core Core Curriculum\"\n        ],\n        \"semantic_type\": \"\",\n        \"description\": \"\"\n      }\n    }\n  ]\n}"
            }
          },
          "metadata": {},
          "execution_count": 64
        }
      ]
    },
    {
      "cell_type": "markdown",
      "source": [
        "Build a model with original text(no pre processing)"
      ],
      "metadata": {
        "id": "Xv994sbkc82J"
      }
    },
    {
      "cell_type": "code",
      "source": [
        "from sklearn.model_selection import train_test_split\n",
        "\n",
        "X_train, X_test, Y_train, Y_test = train_test_split(\n",
        "    df_balanced.headline,\n",
        "    df_balanced.category_num,\n",
        "    test_size=0.2,#20% samples will go to test dataset\n",
        "    random_state= 2023,\n",
        "    stratify= df_balanced.category_num\n",
        ")"
      ],
      "metadata": {
        "id": "vEcZY4lnc6g4"
      },
      "execution_count": 65,
      "outputs": []
    },
    {
      "cell_type": "code",
      "source": [
        "print(X_train.shape)\n",
        "print(X_train.head())"
      ],
      "metadata": {
        "colab": {
          "base_uri": "https://localhost:8080/"
        },
        "id": "QAtD9YMQeAmG",
        "outputId": "fe3e87a6-40be-443c-dc49-92dea4e61a61"
      },
      "execution_count": 66,
      "outputs": [
        {
          "output_type": "stream",
          "name": "stdout",
          "text": [
            "(3244,)\n",
            "1506      Prosecution Rests In Sex-abuse Trial Of Ghisla...\n",
            "92574     Jury Moves Closer To Death Penalty In James Ho...\n",
            "47816     In A Crappy Year, These Sports Moments Brought...\n",
            "92386     Shots Reported For 2nd Day At Mississippi Mili...\n",
            "113680                              Stop Lying to Yourself!\n",
            "Name: headline, dtype: object\n"
          ]
        }
      ]
    },
    {
      "cell_type": "code",
      "source": [
        "Y_train.value_counts()"
      ],
      "metadata": {
        "colab": {
          "base_uri": "https://localhost:8080/",
          "height": 241
        },
        "id": "rNX91l08ePvJ",
        "outputId": "f1f0a6db-2924-4ec4-9d3e-2661edad41f0"
      },
      "execution_count": 67,
      "outputs": [
        {
          "output_type": "execute_result",
          "data": {
            "text/plain": [
              "category_num\n",
              "2    811\n",
              "1    811\n",
              "3    811\n",
              "0    811\n",
              "Name: count, dtype: int64"
            ],
            "text/html": [
              "<div>\n",
              "<style scoped>\n",
              "    .dataframe tbody tr th:only-of-type {\n",
              "        vertical-align: middle;\n",
              "    }\n",
              "\n",
              "    .dataframe tbody tr th {\n",
              "        vertical-align: top;\n",
              "    }\n",
              "\n",
              "    .dataframe thead th {\n",
              "        text-align: right;\n",
              "    }\n",
              "</style>\n",
              "<table border=\"1\" class=\"dataframe\">\n",
              "  <thead>\n",
              "    <tr style=\"text-align: right;\">\n",
              "      <th></th>\n",
              "      <th>count</th>\n",
              "    </tr>\n",
              "    <tr>\n",
              "      <th>category_num</th>\n",
              "      <th></th>\n",
              "    </tr>\n",
              "  </thead>\n",
              "  <tbody>\n",
              "    <tr>\n",
              "      <th>2</th>\n",
              "      <td>811</td>\n",
              "    </tr>\n",
              "    <tr>\n",
              "      <th>1</th>\n",
              "      <td>811</td>\n",
              "    </tr>\n",
              "    <tr>\n",
              "      <th>3</th>\n",
              "      <td>811</td>\n",
              "    </tr>\n",
              "    <tr>\n",
              "      <th>0</th>\n",
              "      <td>811</td>\n",
              "    </tr>\n",
              "  </tbody>\n",
              "</table>\n",
              "</div><br><label><b>dtype:</b> int64</label>"
            ]
          },
          "metadata": {},
          "execution_count": 67
        }
      ]
    },
    {
      "cell_type": "code",
      "source": [
        "Y_test.value_counts()"
      ],
      "metadata": {
        "colab": {
          "base_uri": "https://localhost:8080/",
          "height": 241
        },
        "id": "w9RA0R8EeURE",
        "outputId": "c2fc8709-1c5c-49fc-eeaa-e3ad501b6ed6"
      },
      "execution_count": 68,
      "outputs": [
        {
          "output_type": "execute_result",
          "data": {
            "text/plain": [
              "category_num\n",
              "1    203\n",
              "3    203\n",
              "2    203\n",
              "0    203\n",
              "Name: count, dtype: int64"
            ],
            "text/html": [
              "<div>\n",
              "<style scoped>\n",
              "    .dataframe tbody tr th:only-of-type {\n",
              "        vertical-align: middle;\n",
              "    }\n",
              "\n",
              "    .dataframe tbody tr th {\n",
              "        vertical-align: top;\n",
              "    }\n",
              "\n",
              "    .dataframe thead th {\n",
              "        text-align: right;\n",
              "    }\n",
              "</style>\n",
              "<table border=\"1\" class=\"dataframe\">\n",
              "  <thead>\n",
              "    <tr style=\"text-align: right;\">\n",
              "      <th></th>\n",
              "      <th>count</th>\n",
              "    </tr>\n",
              "    <tr>\n",
              "      <th>category_num</th>\n",
              "      <th></th>\n",
              "    </tr>\n",
              "  </thead>\n",
              "  <tbody>\n",
              "    <tr>\n",
              "      <th>1</th>\n",
              "      <td>203</td>\n",
              "    </tr>\n",
              "    <tr>\n",
              "      <th>3</th>\n",
              "      <td>203</td>\n",
              "    </tr>\n",
              "    <tr>\n",
              "      <th>2</th>\n",
              "      <td>203</td>\n",
              "    </tr>\n",
              "    <tr>\n",
              "      <th>0</th>\n",
              "      <td>203</td>\n",
              "    </tr>\n",
              "  </tbody>\n",
              "</table>\n",
              "</div><br><label><b>dtype:</b> int64</label>"
            ]
          },
          "metadata": {},
          "execution_count": 68
        }
      ]
    },
    {
      "cell_type": "markdown",
      "source": [
        "Attemp1: Use 1-gram which is nothing but a Bag Of Words(BOW) model\n"
      ],
      "metadata": {
        "id": "UkHwhmN5elkr"
      }
    },
    {
      "cell_type": "code",
      "source": [
        "from sklearn.naive_bayes import MultinomialNB\n",
        "from sklearn.pipeline import Pipeline\n",
        "from sklearn.metrics import classification_report\n",
        "\n",
        "#1. create a pipeline object\n",
        "clf= Pipeline([\n",
        "    ('vectorizer_bow', CountVectorizer(ngram_range= (1, 1))),\n",
        "    ('Multi NB', MultinomialNB())\n",
        "])\n",
        "\n",
        "#2. fit with X_train and Y_train\n",
        "clf.fit(X_train, Y_train)\n",
        "\n",
        "#3. get the predictions for X_test and store it in Y_pred\n",
        "Y_pred= clf.predict(X_test)\n",
        "\n",
        "#4. print the classification report\n",
        "print(classification_report(Y_test, Y_pred))\n"
      ],
      "metadata": {
        "colab": {
          "base_uri": "https://localhost:8080/"
        },
        "id": "WNW9vVfpeiwt",
        "outputId": "127545ac-de51-48f5-8e7b-01a6f31e67b1"
      },
      "execution_count": 70,
      "outputs": [
        {
          "output_type": "stream",
          "name": "stdout",
          "text": [
            "              precision    recall  f1-score   support\n",
            "\n",
            "           0       0.86      0.81      0.84       203\n",
            "           1       0.82      0.79      0.80       203\n",
            "           2       0.87      0.91      0.89       203\n",
            "           3       0.84      0.89      0.86       203\n",
            "\n",
            "    accuracy                           0.85       812\n",
            "   macro avg       0.85      0.85      0.85       812\n",
            "weighted avg       0.85      0.85      0.85       812\n",
            "\n"
          ]
        }
      ]
    },
    {
      "cell_type": "code",
      "source": [
        "X_test[:8]\n",
        "#target= {'COMEDY: 0, 'SPORTS': 1, 'CRIME':2, 'EDUCATION': 3}"
      ],
      "metadata": {
        "colab": {
          "base_uri": "https://localhost:8080/",
          "height": 335
        },
        "id": "_N8rRZ61eu7q",
        "outputId": "aacf19d8-5245-448b-a1db-97ad495e6093"
      },
      "execution_count": 71,
      "outputs": [
        {
          "output_type": "execute_result",
          "data": {
            "text/plain": [
              "65762    11 Law Professors Say Tom Brady Is Right And T...\n",
              "19832                  Florida's Teacher Gap Is No Mystery\n",
              "85480    Richard Sherman Explains A Weekly Contradictio...\n",
              "20592    Teacher Seniority: The Seat Belts Of The Educa...\n",
              "95561    What to Watch for in the FIFA Case, Part 5: Va...\n",
              "80283    Shoplifter Shot And Killed After Running Over ...\n",
              "94008    F1 Driver Jules Bianchi Dies 9 Months After Su...\n",
              "93093    Jen Welter To Become First Female Coach In NFL...\n",
              "Name: headline, dtype: object"
            ],
            "text/html": [
              "<div>\n",
              "<style scoped>\n",
              "    .dataframe tbody tr th:only-of-type {\n",
              "        vertical-align: middle;\n",
              "    }\n",
              "\n",
              "    .dataframe tbody tr th {\n",
              "        vertical-align: top;\n",
              "    }\n",
              "\n",
              "    .dataframe thead th {\n",
              "        text-align: right;\n",
              "    }\n",
              "</style>\n",
              "<table border=\"1\" class=\"dataframe\">\n",
              "  <thead>\n",
              "    <tr style=\"text-align: right;\">\n",
              "      <th></th>\n",
              "      <th>headline</th>\n",
              "    </tr>\n",
              "  </thead>\n",
              "  <tbody>\n",
              "    <tr>\n",
              "      <th>65762</th>\n",
              "      <td>11 Law Professors Say Tom Brady Is Right And T...</td>\n",
              "    </tr>\n",
              "    <tr>\n",
              "      <th>19832</th>\n",
              "      <td>Florida's Teacher Gap Is No Mystery</td>\n",
              "    </tr>\n",
              "    <tr>\n",
              "      <th>85480</th>\n",
              "      <td>Richard Sherman Explains A Weekly Contradictio...</td>\n",
              "    </tr>\n",
              "    <tr>\n",
              "      <th>20592</th>\n",
              "      <td>Teacher Seniority: The Seat Belts Of The Educa...</td>\n",
              "    </tr>\n",
              "    <tr>\n",
              "      <th>95561</th>\n",
              "      <td>What to Watch for in the FIFA Case, Part 5: Va...</td>\n",
              "    </tr>\n",
              "    <tr>\n",
              "      <th>80283</th>\n",
              "      <td>Shoplifter Shot And Killed After Running Over ...</td>\n",
              "    </tr>\n",
              "    <tr>\n",
              "      <th>94008</th>\n",
              "      <td>F1 Driver Jules Bianchi Dies 9 Months After Su...</td>\n",
              "    </tr>\n",
              "    <tr>\n",
              "      <th>93093</th>\n",
              "      <td>Jen Welter To Become First Female Coach In NFL...</td>\n",
              "    </tr>\n",
              "  </tbody>\n",
              "</table>\n",
              "</div><br><label><b>dtype:</b> object</label>"
            ]
          },
          "metadata": {},
          "execution_count": 71
        }
      ]
    },
    {
      "cell_type": "code",
      "source": [
        "Y_pred[:8]"
      ],
      "metadata": {
        "colab": {
          "base_uri": "https://localhost:8080/"
        },
        "id": "oF27EQC8hGGN",
        "outputId": "33dace6f-b6cb-4271-cbd9-8cb1b3a3ea41"
      },
      "execution_count": 72,
      "outputs": [
        {
          "output_type": "execute_result",
          "data": {
            "text/plain": [
              "array([1, 3, 1, 3, 3, 2, 2, 1])"
            ]
          },
          "metadata": {},
          "execution_count": 72
        }
      ]
    },
    {
      "cell_type": "markdown",
      "source": [
        "Attemp 2: Use 1-gram and bigrams\n"
      ],
      "metadata": {
        "id": "Zi1IqEFCiZ5R"
      }
    },
    {
      "cell_type": "code",
      "source": [
        "#1. create a pipeline object\n",
        "clf= Pipeline([\n",
        "    ('vectorizer_1_2_gram', CountVectorizer(ngram_range= (1, 2))),\n",
        "    ('Multi NB', MultinomialNB())\n",
        "])\n",
        "\n",
        "#2. fir with X_train and Y_train\n",
        "clf.fit(X_train, Y_train)\n",
        "\n",
        "#3. get the predictions for X_test and store it Y_pred\n",
        "Y_pred= clf.predict(X_test)\n",
        "\n",
        "#4. print the classfication report\n",
        "print(classification_report(Y_test, Y_pred))\n"
      ],
      "metadata": {
        "colab": {
          "base_uri": "https://localhost:8080/"
        },
        "id": "sy0jDAq9ih8f",
        "outputId": "ffa309ba-7c45-4405-df48-c611fd31d68e"
      },
      "execution_count": 74,
      "outputs": [
        {
          "output_type": "stream",
          "name": "stdout",
          "text": [
            "              precision    recall  f1-score   support\n",
            "\n",
            "           0       0.84      0.81      0.83       203\n",
            "           1       0.83      0.77      0.80       203\n",
            "           2       0.87      0.92      0.89       203\n",
            "           3       0.84      0.87      0.86       203\n",
            "\n",
            "    accuracy                           0.84       812\n",
            "   macro avg       0.84      0.84      0.84       812\n",
            "weighted avg       0.84      0.84      0.84       812\n",
            "\n"
          ]
        }
      ]
    },
    {
      "cell_type": "markdown",
      "source": [
        "Attemp 3: Use 1-gram to trigrams\n"
      ],
      "metadata": {
        "id": "Ei8S2YNhjneN"
      }
    },
    {
      "cell_type": "code",
      "source": [
        "#1. create a pipeline object\n",
        "clf= Pipeline([\n",
        "    ('vectorizer_1_2_gram', CountVectorizer(ngram_range= (1, 3))),\n",
        "    ('Multi NB', MultinomialNB())\n",
        "])\n",
        "\n",
        "#2. fir with X_train and Y_train\n",
        "clf.fit(X_train, Y_train)\n",
        "\n",
        "#3. get the predictions for X_test and store it Y_pred\n",
        "Y_pred= clf.predict(X_test)\n",
        "\n",
        "#4. print the classfication report\n",
        "print(classification_report(Y_test, Y_pred))\n",
        "\n"
      ],
      "metadata": {
        "colab": {
          "base_uri": "https://localhost:8080/"
        },
        "id": "ClC4EtZHjvmz",
        "outputId": "40d055ab-7e60-4a32-874a-5270aad1cb87"
      },
      "execution_count": 75,
      "outputs": [
        {
          "output_type": "stream",
          "name": "stdout",
          "text": [
            "              precision    recall  f1-score   support\n",
            "\n",
            "           0       0.83      0.82      0.83       203\n",
            "           1       0.83      0.77      0.80       203\n",
            "           2       0.86      0.92      0.89       203\n",
            "           3       0.85      0.87      0.86       203\n",
            "\n",
            "    accuracy                           0.84       812\n",
            "   macro avg       0.84      0.84      0.84       812\n",
            "weighted avg       0.84      0.84      0.84       812\n",
            "\n"
          ]
        }
      ]
    },
    {
      "cell_type": "markdown",
      "source": [
        "Use text pre_prcessing to remove stop words, punctuations and apply lemmatization\n"
      ],
      "metadata": {
        "id": "fSojRcEEj-Mx"
      }
    },
    {
      "cell_type": "code",
      "source": [
        "df_balanced['preprocessed_txt']= df_balanced['headline'].apply(preprocess)"
      ],
      "metadata": {
        "id": "sjyHHjZojlsu"
      },
      "execution_count": 76,
      "outputs": []
    },
    {
      "cell_type": "code",
      "source": [
        "df_balanced.head()"
      ],
      "metadata": {
        "colab": {
          "base_uri": "https://localhost:8080/",
          "height": 206
        },
        "id": "uToyQWYMmWRX",
        "outputId": "2bbd3122-a8a4-4f1e-adf6-b70e19c0a9fb"
      },
      "execution_count": 77,
      "outputs": [
        {
          "output_type": "execute_result",
          "data": {
            "text/plain": [
              "                                                 headline category  \\\n",
              "15312   Trevor Noah Calls Out Hillary Clinton, And He'...   COMEDY   \n",
              "126777                              What Sorcery Is This?   COMEDY   \n",
              "47238   Hi, Death? I'd Like To Speak To Your Manager, ...   COMEDY   \n",
              "119663                                      ...New Again?   COMEDY   \n",
              "30724   There Was No Audio, So We Captioned The Trump ...   COMEDY   \n",
              "\n",
              "        category_num                       preprocessed_txt  \n",
              "15312              0  Trevor Noah call Hillary Clinton joke  \n",
              "126777             0                                Sorcery  \n",
              "47238              0            Hi Death like speak Manager  \n",
              "119663             0                                    New  \n",
              "30724              0      audio caption Trump Putin Meeting  "
            ],
            "text/html": [
              "\n",
              "  <div id=\"df-29aa8014-f1af-41cb-81c2-2676ec038cd8\" class=\"colab-df-container\">\n",
              "    <div>\n",
              "<style scoped>\n",
              "    .dataframe tbody tr th:only-of-type {\n",
              "        vertical-align: middle;\n",
              "    }\n",
              "\n",
              "    .dataframe tbody tr th {\n",
              "        vertical-align: top;\n",
              "    }\n",
              "\n",
              "    .dataframe thead th {\n",
              "        text-align: right;\n",
              "    }\n",
              "</style>\n",
              "<table border=\"1\" class=\"dataframe\">\n",
              "  <thead>\n",
              "    <tr style=\"text-align: right;\">\n",
              "      <th></th>\n",
              "      <th>headline</th>\n",
              "      <th>category</th>\n",
              "      <th>category_num</th>\n",
              "      <th>preprocessed_txt</th>\n",
              "    </tr>\n",
              "  </thead>\n",
              "  <tbody>\n",
              "    <tr>\n",
              "      <th>15312</th>\n",
              "      <td>Trevor Noah Calls Out Hillary Clinton, And He'...</td>\n",
              "      <td>COMEDY</td>\n",
              "      <td>0</td>\n",
              "      <td>Trevor Noah call Hillary Clinton joke</td>\n",
              "    </tr>\n",
              "    <tr>\n",
              "      <th>126777</th>\n",
              "      <td>What Sorcery Is This?</td>\n",
              "      <td>COMEDY</td>\n",
              "      <td>0</td>\n",
              "      <td>Sorcery</td>\n",
              "    </tr>\n",
              "    <tr>\n",
              "      <th>47238</th>\n",
              "      <td>Hi, Death? I'd Like To Speak To Your Manager, ...</td>\n",
              "      <td>COMEDY</td>\n",
              "      <td>0</td>\n",
              "      <td>Hi Death like speak Manager</td>\n",
              "    </tr>\n",
              "    <tr>\n",
              "      <th>119663</th>\n",
              "      <td>...New Again?</td>\n",
              "      <td>COMEDY</td>\n",
              "      <td>0</td>\n",
              "      <td>New</td>\n",
              "    </tr>\n",
              "    <tr>\n",
              "      <th>30724</th>\n",
              "      <td>There Was No Audio, So We Captioned The Trump ...</td>\n",
              "      <td>COMEDY</td>\n",
              "      <td>0</td>\n",
              "      <td>audio caption Trump Putin Meeting</td>\n",
              "    </tr>\n",
              "  </tbody>\n",
              "</table>\n",
              "</div>\n",
              "    <div class=\"colab-df-buttons\">\n",
              "\n",
              "  <div class=\"colab-df-container\">\n",
              "    <button class=\"colab-df-convert\" onclick=\"convertToInteractive('df-29aa8014-f1af-41cb-81c2-2676ec038cd8')\"\n",
              "            title=\"Convert this dataframe to an interactive table.\"\n",
              "            style=\"display:none;\">\n",
              "\n",
              "  <svg xmlns=\"http://www.w3.org/2000/svg\" height=\"24px\" viewBox=\"0 -960 960 960\">\n",
              "    <path d=\"M120-120v-720h720v720H120Zm60-500h600v-160H180v160Zm220 220h160v-160H400v160Zm0 220h160v-160H400v160ZM180-400h160v-160H180v160Zm440 0h160v-160H620v160ZM180-180h160v-160H180v160Zm440 0h160v-160H620v160Z\"/>\n",
              "  </svg>\n",
              "    </button>\n",
              "\n",
              "  <style>\n",
              "    .colab-df-container {\n",
              "      display:flex;\n",
              "      gap: 12px;\n",
              "    }\n",
              "\n",
              "    .colab-df-convert {\n",
              "      background-color: #E8F0FE;\n",
              "      border: none;\n",
              "      border-radius: 50%;\n",
              "      cursor: pointer;\n",
              "      display: none;\n",
              "      fill: #1967D2;\n",
              "      height: 32px;\n",
              "      padding: 0 0 0 0;\n",
              "      width: 32px;\n",
              "    }\n",
              "\n",
              "    .colab-df-convert:hover {\n",
              "      background-color: #E2EBFA;\n",
              "      box-shadow: 0px 1px 2px rgba(60, 64, 67, 0.3), 0px 1px 3px 1px rgba(60, 64, 67, 0.15);\n",
              "      fill: #174EA6;\n",
              "    }\n",
              "\n",
              "    .colab-df-buttons div {\n",
              "      margin-bottom: 4px;\n",
              "    }\n",
              "\n",
              "    [theme=dark] .colab-df-convert {\n",
              "      background-color: #3B4455;\n",
              "      fill: #D2E3FC;\n",
              "    }\n",
              "\n",
              "    [theme=dark] .colab-df-convert:hover {\n",
              "      background-color: #434B5C;\n",
              "      box-shadow: 0px 1px 3px 1px rgba(0, 0, 0, 0.15);\n",
              "      filter: drop-shadow(0px 1px 2px rgba(0, 0, 0, 0.3));\n",
              "      fill: #FFFFFF;\n",
              "    }\n",
              "  </style>\n",
              "\n",
              "    <script>\n",
              "      const buttonEl =\n",
              "        document.querySelector('#df-29aa8014-f1af-41cb-81c2-2676ec038cd8 button.colab-df-convert');\n",
              "      buttonEl.style.display =\n",
              "        google.colab.kernel.accessAllowed ? 'block' : 'none';\n",
              "\n",
              "      async function convertToInteractive(key) {\n",
              "        const element = document.querySelector('#df-29aa8014-f1af-41cb-81c2-2676ec038cd8');\n",
              "        const dataTable =\n",
              "          await google.colab.kernel.invokeFunction('convertToInteractive',\n",
              "                                                    [key], {});\n",
              "        if (!dataTable) return;\n",
              "\n",
              "        const docLinkHtml = 'Like what you see? Visit the ' +\n",
              "          '<a target=\"_blank\" href=https://colab.research.google.com/notebooks/data_table.ipynb>data table notebook</a>'\n",
              "          + ' to learn more about interactive tables.';\n",
              "        element.innerHTML = '';\n",
              "        dataTable['output_type'] = 'display_data';\n",
              "        await google.colab.output.renderOutput(dataTable, element);\n",
              "        const docLink = document.createElement('div');\n",
              "        docLink.innerHTML = docLinkHtml;\n",
              "        element.appendChild(docLink);\n",
              "      }\n",
              "    </script>\n",
              "  </div>\n",
              "\n",
              "\n",
              "<div id=\"df-c3e02c46-93da-42ec-9a30-8c276ae030d5\">\n",
              "  <button class=\"colab-df-quickchart\" onclick=\"quickchart('df-c3e02c46-93da-42ec-9a30-8c276ae030d5')\"\n",
              "            title=\"Suggest charts\"\n",
              "            style=\"display:none;\">\n",
              "\n",
              "<svg xmlns=\"http://www.w3.org/2000/svg\" height=\"24px\"viewBox=\"0 0 24 24\"\n",
              "     width=\"24px\">\n",
              "    <g>\n",
              "        <path d=\"M19 3H5c-1.1 0-2 .9-2 2v14c0 1.1.9 2 2 2h14c1.1 0 2-.9 2-2V5c0-1.1-.9-2-2-2zM9 17H7v-7h2v7zm4 0h-2V7h2v10zm4 0h-2v-4h2v4z\"/>\n",
              "    </g>\n",
              "</svg>\n",
              "  </button>\n",
              "\n",
              "<style>\n",
              "  .colab-df-quickchart {\n",
              "      --bg-color: #E8F0FE;\n",
              "      --fill-color: #1967D2;\n",
              "      --hover-bg-color: #E2EBFA;\n",
              "      --hover-fill-color: #174EA6;\n",
              "      --disabled-fill-color: #AAA;\n",
              "      --disabled-bg-color: #DDD;\n",
              "  }\n",
              "\n",
              "  [theme=dark] .colab-df-quickchart {\n",
              "      --bg-color: #3B4455;\n",
              "      --fill-color: #D2E3FC;\n",
              "      --hover-bg-color: #434B5C;\n",
              "      --hover-fill-color: #FFFFFF;\n",
              "      --disabled-bg-color: #3B4455;\n",
              "      --disabled-fill-color: #666;\n",
              "  }\n",
              "\n",
              "  .colab-df-quickchart {\n",
              "    background-color: var(--bg-color);\n",
              "    border: none;\n",
              "    border-radius: 50%;\n",
              "    cursor: pointer;\n",
              "    display: none;\n",
              "    fill: var(--fill-color);\n",
              "    height: 32px;\n",
              "    padding: 0;\n",
              "    width: 32px;\n",
              "  }\n",
              "\n",
              "  .colab-df-quickchart:hover {\n",
              "    background-color: var(--hover-bg-color);\n",
              "    box-shadow: 0 1px 2px rgba(60, 64, 67, 0.3), 0 1px 3px 1px rgba(60, 64, 67, 0.15);\n",
              "    fill: var(--button-hover-fill-color);\n",
              "  }\n",
              "\n",
              "  .colab-df-quickchart-complete:disabled,\n",
              "  .colab-df-quickchart-complete:disabled:hover {\n",
              "    background-color: var(--disabled-bg-color);\n",
              "    fill: var(--disabled-fill-color);\n",
              "    box-shadow: none;\n",
              "  }\n",
              "\n",
              "  .colab-df-spinner {\n",
              "    border: 2px solid var(--fill-color);\n",
              "    border-color: transparent;\n",
              "    border-bottom-color: var(--fill-color);\n",
              "    animation:\n",
              "      spin 1s steps(1) infinite;\n",
              "  }\n",
              "\n",
              "  @keyframes spin {\n",
              "    0% {\n",
              "      border-color: transparent;\n",
              "      border-bottom-color: var(--fill-color);\n",
              "      border-left-color: var(--fill-color);\n",
              "    }\n",
              "    20% {\n",
              "      border-color: transparent;\n",
              "      border-left-color: var(--fill-color);\n",
              "      border-top-color: var(--fill-color);\n",
              "    }\n",
              "    30% {\n",
              "      border-color: transparent;\n",
              "      border-left-color: var(--fill-color);\n",
              "      border-top-color: var(--fill-color);\n",
              "      border-right-color: var(--fill-color);\n",
              "    }\n",
              "    40% {\n",
              "      border-color: transparent;\n",
              "      border-right-color: var(--fill-color);\n",
              "      border-top-color: var(--fill-color);\n",
              "    }\n",
              "    60% {\n",
              "      border-color: transparent;\n",
              "      border-right-color: var(--fill-color);\n",
              "    }\n",
              "    80% {\n",
              "      border-color: transparent;\n",
              "      border-right-color: var(--fill-color);\n",
              "      border-bottom-color: var(--fill-color);\n",
              "    }\n",
              "    90% {\n",
              "      border-color: transparent;\n",
              "      border-bottom-color: var(--fill-color);\n",
              "    }\n",
              "  }\n",
              "</style>\n",
              "\n",
              "  <script>\n",
              "    async function quickchart(key) {\n",
              "      const quickchartButtonEl =\n",
              "        document.querySelector('#' + key + ' button');\n",
              "      quickchartButtonEl.disabled = true;  // To prevent multiple clicks.\n",
              "      quickchartButtonEl.classList.add('colab-df-spinner');\n",
              "      try {\n",
              "        const charts = await google.colab.kernel.invokeFunction(\n",
              "            'suggestCharts', [key], {});\n",
              "      } catch (error) {\n",
              "        console.error('Error during call to suggestCharts:', error);\n",
              "      }\n",
              "      quickchartButtonEl.classList.remove('colab-df-spinner');\n",
              "      quickchartButtonEl.classList.add('colab-df-quickchart-complete');\n",
              "    }\n",
              "    (() => {\n",
              "      let quickchartButtonEl =\n",
              "        document.querySelector('#df-c3e02c46-93da-42ec-9a30-8c276ae030d5 button');\n",
              "      quickchartButtonEl.style.display =\n",
              "        google.colab.kernel.accessAllowed ? 'block' : 'none';\n",
              "    })();\n",
              "  </script>\n",
              "</div>\n",
              "\n",
              "    </div>\n",
              "  </div>\n"
            ],
            "application/vnd.google.colaboratory.intrinsic+json": {
              "type": "dataframe",
              "variable_name": "df_balanced",
              "summary": "{\n  \"name\": \"df_balanced\",\n  \"rows\": 4056,\n  \"fields\": [\n    {\n      \"column\": \"headline\",\n      \"properties\": {\n        \"dtype\": \"string\",\n        \"num_unique_values\": 4047,\n        \"samples\": [\n          \"The Promise of Career and Technical Education\",\n          \"Elon Musk Claims He Is First Person With Asperger's To Host 'SNL'\",\n          \"Suspicious Packages Sent To Oregon Government Buildings\"\n        ],\n        \"semantic_type\": \"\",\n        \"description\": \"\"\n      }\n    },\n    {\n      \"column\": \"category\",\n      \"properties\": {\n        \"dtype\": \"category\",\n        \"num_unique_values\": 4,\n        \"samples\": [\n          \"SPORTS\",\n          \"EDUCATION\",\n          \"COMEDY\"\n        ],\n        \"semantic_type\": \"\",\n        \"description\": \"\"\n      }\n    },\n    {\n      \"column\": \"category_num\",\n      \"properties\": {\n        \"dtype\": \"number\",\n        \"std\": 1,\n        \"min\": 0,\n        \"max\": 3,\n        \"num_unique_values\": 4,\n        \"samples\": [\n          1,\n          3,\n          0\n        ],\n        \"semantic_type\": \"\",\n        \"description\": \"\"\n      }\n    },\n    {\n      \"column\": \"preprocessed_txt\",\n      \"properties\": {\n        \"dtype\": \"string\",\n        \"num_unique_values\": 4047,\n        \"samples\": [\n          \"Promise Career Technical Education\",\n          \"Elon Musk Claims Person Asperger Host SNL\",\n          \"Suspicious Packages send Oregon Government building\"\n        ],\n        \"semantic_type\": \"\",\n        \"description\": \"\"\n      }\n    }\n  ]\n}"
            }
          },
          "metadata": {},
          "execution_count": 77
        }
      ]
    },
    {
      "cell_type": "markdown",
      "source": [
        "Build a model with pre processed text"
      ],
      "metadata": {
        "id": "HHC6_AX5LURy"
      }
    },
    {
      "cell_type": "code",
      "source": [
        "X_train, X_test, Y_train, Y_test = train_test_split(\n",
        "    df_balanced.preprocessed_txt,\n",
        "    df_balanced.category_num,\n",
        "    test_size= 0.2, #20% samples will go to test  dataset\n",
        "    random_state= 2023,\n",
        "    stratify= df_balanced.category_num\n",
        ")"
      ],
      "metadata": {
        "id": "-x6wrgfmLSTZ"
      },
      "execution_count": 78,
      "outputs": []
    },
    {
      "cell_type": "code",
      "source": [
        "print(X_train.shape)\n",
        "print(X_train.head())"
      ],
      "metadata": {
        "colab": {
          "base_uri": "https://localhost:8080/"
        },
        "id": "c9lp8hPXMN-Y",
        "outputId": "0f5402be-39f6-41dc-d5a2-7bd645fff925"
      },
      "execution_count": 79,
      "outputs": [
        {
          "output_type": "stream",
          "name": "stdout",
          "text": [
            "(3244,)\n",
            "1506      prosecution Rests sex abuse Trial Ghislaine Ma...\n",
            "92574      jury move close Death Penalty James Holmes Trial\n",
            "47816                  Crappy Year Sports Moments bring Joy\n",
            "92386         shot report 2nd Day Mississippi Military Site\n",
            "113680                                             stop lie\n",
            "Name: preprocessed_txt, dtype: object\n"
          ]
        }
      ]
    },
    {
      "cell_type": "code",
      "source": [
        "Y_train.value_counts()"
      ],
      "metadata": {
        "colab": {
          "base_uri": "https://localhost:8080/",
          "height": 241
        },
        "id": "JqQCqYAxMjJC",
        "outputId": "2710a859-8484-45c6-abe8-8c5ecaebf78c"
      },
      "execution_count": 80,
      "outputs": [
        {
          "output_type": "execute_result",
          "data": {
            "text/plain": [
              "category_num\n",
              "2    811\n",
              "1    811\n",
              "3    811\n",
              "0    811\n",
              "Name: count, dtype: int64"
            ],
            "text/html": [
              "<div>\n",
              "<style scoped>\n",
              "    .dataframe tbody tr th:only-of-type {\n",
              "        vertical-align: middle;\n",
              "    }\n",
              "\n",
              "    .dataframe tbody tr th {\n",
              "        vertical-align: top;\n",
              "    }\n",
              "\n",
              "    .dataframe thead th {\n",
              "        text-align: right;\n",
              "    }\n",
              "</style>\n",
              "<table border=\"1\" class=\"dataframe\">\n",
              "  <thead>\n",
              "    <tr style=\"text-align: right;\">\n",
              "      <th></th>\n",
              "      <th>count</th>\n",
              "    </tr>\n",
              "    <tr>\n",
              "      <th>category_num</th>\n",
              "      <th></th>\n",
              "    </tr>\n",
              "  </thead>\n",
              "  <tbody>\n",
              "    <tr>\n",
              "      <th>2</th>\n",
              "      <td>811</td>\n",
              "    </tr>\n",
              "    <tr>\n",
              "      <th>1</th>\n",
              "      <td>811</td>\n",
              "    </tr>\n",
              "    <tr>\n",
              "      <th>3</th>\n",
              "      <td>811</td>\n",
              "    </tr>\n",
              "    <tr>\n",
              "      <th>0</th>\n",
              "      <td>811</td>\n",
              "    </tr>\n",
              "  </tbody>\n",
              "</table>\n",
              "</div><br><label><b>dtype:</b> int64</label>"
            ]
          },
          "metadata": {},
          "execution_count": 80
        }
      ]
    },
    {
      "cell_type": "code",
      "source": [
        "Y_test.value_counts()"
      ],
      "metadata": {
        "colab": {
          "base_uri": "https://localhost:8080/",
          "height": 241
        },
        "id": "rSIUNKw0MnGL",
        "outputId": "3cfc82a6-697e-4ed5-a15e-4b8905543082"
      },
      "execution_count": 81,
      "outputs": [
        {
          "output_type": "execute_result",
          "data": {
            "text/plain": [
              "category_num\n",
              "1    203\n",
              "3    203\n",
              "2    203\n",
              "0    203\n",
              "Name: count, dtype: int64"
            ],
            "text/html": [
              "<div>\n",
              "<style scoped>\n",
              "    .dataframe tbody tr th:only-of-type {\n",
              "        vertical-align: middle;\n",
              "    }\n",
              "\n",
              "    .dataframe tbody tr th {\n",
              "        vertical-align: top;\n",
              "    }\n",
              "\n",
              "    .dataframe thead th {\n",
              "        text-align: right;\n",
              "    }\n",
              "</style>\n",
              "<table border=\"1\" class=\"dataframe\">\n",
              "  <thead>\n",
              "    <tr style=\"text-align: right;\">\n",
              "      <th></th>\n",
              "      <th>count</th>\n",
              "    </tr>\n",
              "    <tr>\n",
              "      <th>category_num</th>\n",
              "      <th></th>\n",
              "    </tr>\n",
              "  </thead>\n",
              "  <tbody>\n",
              "    <tr>\n",
              "      <th>1</th>\n",
              "      <td>203</td>\n",
              "    </tr>\n",
              "    <tr>\n",
              "      <th>3</th>\n",
              "      <td>203</td>\n",
              "    </tr>\n",
              "    <tr>\n",
              "      <th>2</th>\n",
              "      <td>203</td>\n",
              "    </tr>\n",
              "    <tr>\n",
              "      <th>0</th>\n",
              "      <td>203</td>\n",
              "    </tr>\n",
              "  </tbody>\n",
              "</table>\n",
              "</div><br><label><b>dtype:</b> int64</label>"
            ]
          },
          "metadata": {},
          "execution_count": 81
        }
      ]
    },
    {
      "cell_type": "code",
      "source": [
        "#1. create a pipeline object\n",
        "clf= Pipeline([\n",
        "    ('vectorizer_bow', CountVectorizer(ngram_range= (1, 2))),\n",
        "    ('Multi NB', MultinomialNB())\n",
        "])\n",
        "\n",
        "#2. fit with X_train and Y_train\n",
        "clf.fit(X_train, Y_train)\n",
        "\n",
        "#3. get the predictions for X_test and store it in Y_pred\n",
        "Y_pred = clf.predict(X_test)\n",
        "\n",
        "#4. print the classification report\n",
        "print(classification_report(Y_test, Y_pred))"
      ],
      "metadata": {
        "colab": {
          "base_uri": "https://localhost:8080/"
        },
        "id": "-Q6ku0GYMtAo",
        "outputId": "689ee9d6-97b0-4ed2-f375-0fb6f8bbddf1"
      },
      "execution_count": 84,
      "outputs": [
        {
          "output_type": "stream",
          "name": "stdout",
          "text": [
            "              precision    recall  f1-score   support\n",
            "\n",
            "           0       0.82      0.79      0.80       203\n",
            "           1       0.82      0.81      0.81       203\n",
            "           2       0.86      0.92      0.89       203\n",
            "           3       0.86      0.84      0.85       203\n",
            "\n",
            "    accuracy                           0.84       812\n",
            "   macro avg       0.84      0.84      0.84       812\n",
            "weighted avg       0.84      0.84      0.84       812\n",
            "\n"
          ]
        }
      ]
    },
    {
      "cell_type": "markdown",
      "source": [
        "Plot confusion matrix"
      ],
      "metadata": {
        "id": "W1-j_u1JNxBk"
      }
    },
    {
      "cell_type": "code",
      "source": [
        "from sklearn.metrics import confusion_matrix\n",
        "cm= confusion_matrix(Y_test, Y_pred)\n",
        "cm"
      ],
      "metadata": {
        "colab": {
          "base_uri": "https://localhost:8080/"
        },
        "id": "Ts6UNpoAN0au",
        "outputId": "4802b22c-0c36-48fe-d707-93b19a5bf5fc"
      },
      "execution_count": 85,
      "outputs": [
        {
          "output_type": "execute_result",
          "data": {
            "text/plain": [
              "array([[160,  19,  10,  14],\n",
              "       [ 15, 165,  15,   8],\n",
              "       [  6,   5, 187,   5],\n",
              "       [ 14,  13,   6, 170]])"
            ]
          },
          "metadata": {},
          "execution_count": 85
        }
      ]
    },
    {
      "cell_type": "code",
      "source": [
        "from matplotlib import pyplot as plt\n",
        "import seaborn as sn\n",
        "plt.figure(figsize=(10, 7))\n",
        "sn.heatmap(cm, annot=True, fmt= 'd')\n",
        "plt.xlabel('Prediction')\n",
        "plt.ylabel('Truth')"
      ],
      "metadata": {
        "colab": {
          "base_uri": "https://localhost:8080/",
          "height": 636
        },
        "id": "R4sTJrmpOM_-",
        "outputId": "82cd1aed-1b97-488b-c1d0-2c28d14dd28c"
      },
      "execution_count": 88,
      "outputs": [
        {
          "output_type": "execute_result",
          "data": {
            "text/plain": [
              "Text(95.72222222222221, 0.5, 'Truth')"
            ]
          },
          "metadata": {},
          "execution_count": 88
        },
        {
          "output_type": "display_data",
          "data": {
            "text/plain": [
              "<Figure size 1000x700 with 2 Axes>"
            ],
            "image/png": "[encoded data removed]"
          },
          "metadata": {}
        }
      ]
    }
  ]
}