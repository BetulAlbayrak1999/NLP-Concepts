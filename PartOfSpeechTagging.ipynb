{
  "nbformat": 4,
  "nbformat_minor": 0,
  "metadata": {
    "colab": {
      "provenance": []
    },
    "kernelspec": {
      "name": "python3",
      "display_name": "Python 3"
    },
    "language_info": {
      "name": "python"
    }
  },
  "cells": [
    {
      "cell_type": "code",
      "execution_count": null,
      "metadata": {
        "id": "C1ec_c4URuUu"
      },
      "outputs": [],
      "source": [
        "!pip install spacy"
      ]
    },
    {
      "cell_type": "code",
      "source": [
        "import spacy"
      ],
      "metadata": {
        "id": "uBsz4OBoR6rV"
      },
      "execution_count": 2,
      "outputs": []
    },
    {
      "cell_type": "code",
      "source": [
        "nlp= spacy.load('en_core_web_sm')"
      ],
      "metadata": {
        "id": "MN81-t7fSBeX"
      },
      "execution_count": 3,
      "outputs": []
    },
    {
      "cell_type": "code",
      "source": [
        "doc= nlp('Elon flew to Mars yesterday. He carried Biryani Masala with him.')\n"
      ],
      "metadata": {
        "id": "RwsTUadcSJkT"
      },
      "execution_count": 4,
      "outputs": []
    },
    {
      "cell_type": "code",
      "source": [
        "for token in doc:\n",
        "  print(token, ', ', token.pos_, ', ', spacy.explain(token.pos_), ', ', token.text)"
      ],
      "metadata": {
        "colab": {
          "base_uri": "https://localhost:8080/"
        },
        "id": "1jBRVio0SVpf",
        "outputId": "9adbbf30-4718-48c7-9aa8-e22801f99f0d"
      },
      "execution_count": 5,
      "outputs": [
        {
          "output_type": "stream",
          "name": "stdout",
          "text": [
            "Elon ,  PROPN ,  proper noun ,  Elon\n",
            "flew ,  VERB ,  verb ,  flew\n",
            "to ,  ADP ,  adposition ,  to\n",
            "Mars ,  PROPN ,  proper noun ,  Mars\n",
            "yesterday ,  NOUN ,  noun ,  yesterday\n",
            ". ,  PUNCT ,  punctuation ,  .\n",
            "He ,  PRON ,  pronoun ,  He\n",
            "carried ,  VERB ,  verb ,  carried\n",
            "Biryani ,  PROPN ,  proper noun ,  Biryani\n",
            "Masala ,  PROPN ,  proper noun ,  Masala\n",
            "with ,  ADP ,  adposition ,  with\n",
            "him ,  PRON ,  pronoun ,  him\n",
            ". ,  PUNCT ,  punctuation ,  .\n"
          ]
        }
      ]
    },
    {
      "cell_type": "code",
      "source": [
        "## here where spacy figures out the past vs present tense for quit verb\n",
        "doc= nlp(\"he quits the job\")\n",
        "print(doc[1].text, \", \", doc[1].tag_, \", \", spacy.explain(doc[1].tag_))\n",
        "\n",
        "doc= nlp(\"he quit the job\")\n",
        "print(doc[1].text, \", \", doc[1].tag_, \", \", spacy.explain(doc[1].tag_))\n"
      ],
      "metadata": {
        "colab": {
          "base_uri": "https://localhost:8080/"
        },
        "id": "sI7Y9fxiSm6P",
        "outputId": "1af8cf5d-1dcb-4156-d5b8-813ce86e73f4"
      },
      "execution_count": 6,
      "outputs": [
        {
          "output_type": "stream",
          "name": "stdout",
          "text": [
            "quits ,  VBZ ,  verb, 3rd person singular present\n",
            "quit ,  VBD ,  verb, past tense\n"
          ]
        }
      ]
    },
    {
      "cell_type": "code",
      "source": [
        "## Removing all SPACE, PUNC, and X token from text\n",
        "earnings_text= '''\n",
        "Microsoft Corp. today announced the following results for the quarter ended December 31, 2021, as compared to the corresponding period of last fiscal year:\n",
        "\n",
        "·         Revenue was $51.7 billion and increased 20%\n",
        "·         Operating income was $22.2 billion and increased 24%\n",
        "·         Net income was $18.8 billion and increased 21%\n",
        "·         Diluted earnings per share was $2.48 and increased 22%\n",
        "“Digital technology etc. is the most malleable resource at the world’s disposal to overcome constraints and reimagine everyday work and life,” said Satya Nadella, chairman and chief executive officer of Microsoft. “As tech as a percentage of global GDP continues to increase, we are innovating and investing across diverse and growing markets, with a common underlying technology stack and an operating model that reinforces a common strategy, culture, and sense of purpose.”\n",
        "“Solid commercial execution, represented by strong bookings growth driven by long-term Azure commitments, increased Microsoft Cloud revenue to $22.1 billion, up 32% year over year” said Amy Hood, executive vice president and chief financial officer of Microsoft.\n",
        "'''\n",
        "\n",
        "doc= nlp(earnings_text)\n",
        "filtered_tokens= []\n",
        "\n",
        "for token in doc:\n",
        "  if token.pos_ not in ['SPACE', \"PUNCT\", \"X\"]:\n",
        "    print(token)\n",
        "    filtered_tokens.append(token)"
      ],
      "metadata": {
        "colab": {
          "base_uri": "https://localhost:8080/"
        },
        "id": "kdISHjDyTYku",
        "outputId": "bf382be2-9119-49c9-817f-411985b1b105"
      },
      "execution_count": 9,
      "outputs": [
        {
          "output_type": "stream",
          "name": "stdout",
          "text": [
            "Microsoft\n",
            "Corp.\n",
            "today\n",
            "announced\n",
            "the\n",
            "following\n",
            "results\n",
            "for\n",
            "the\n",
            "quarter\n",
            "ended\n",
            "December\n",
            "31\n",
            "2021\n",
            "as\n",
            "compared\n",
            "to\n",
            "the\n",
            "corresponding\n",
            "period\n",
            "of\n",
            "last\n",
            "fiscal\n",
            "year\n",
            "Revenue\n",
            "was\n",
            "$\n",
            "51.7\n",
            "billion\n",
            "and\n",
            "increased\n",
            "20\n",
            "%\n",
            "Operating\n",
            "income\n",
            "was\n",
            "$\n",
            "22.2\n",
            "billion\n",
            "and\n",
            "increased\n",
            "24\n",
            "%\n",
            "Net\n",
            "income\n",
            "was\n",
            "$\n",
            "18.8\n",
            "billion\n",
            "and\n",
            "increased\n",
            "21\n",
            "%\n",
            "Diluted\n",
            "earnings\n",
            "per\n",
            "share\n",
            "was\n",
            "$\n",
            "2.48\n",
            "and\n",
            "increased\n",
            "22\n",
            "%\n",
            "Digital\n",
            "technology\n",
            "is\n",
            "the\n",
            "most\n",
            "malleable\n",
            "resource\n",
            "at\n",
            "the\n",
            "world\n",
            "’s\n",
            "disposal\n",
            "to\n",
            "overcome\n",
            "constraints\n",
            "and\n",
            "reimagine\n",
            "everyday\n",
            "work\n",
            "and\n",
            "life\n",
            "said\n",
            "Satya\n",
            "Nadella\n",
            "chairman\n",
            "and\n",
            "chief\n",
            "executive\n",
            "officer\n",
            "of\n",
            "Microsoft\n",
            "As\n",
            "tech\n",
            "as\n",
            "a\n",
            "percentage\n",
            "of\n",
            "global\n",
            "GDP\n",
            "continues\n",
            "to\n",
            "increase\n",
            "we\n",
            "are\n",
            "innovating\n",
            "and\n",
            "investing\n",
            "across\n",
            "diverse\n",
            "and\n",
            "growing\n",
            "markets\n",
            "with\n",
            "a\n",
            "common\n",
            "underlying\n",
            "technology\n",
            "stack\n",
            "and\n",
            "an\n",
            "operating\n",
            "model\n",
            "that\n",
            "reinforces\n",
            "a\n",
            "common\n",
            "strategy\n",
            "culture\n",
            "and\n",
            "sense\n",
            "of\n",
            "purpose\n",
            "Solid\n",
            "commercial\n",
            "execution\n",
            "represented\n",
            "by\n",
            "strong\n",
            "bookings\n",
            "growth\n",
            "driven\n",
            "by\n",
            "long\n",
            "term\n",
            "Azure\n",
            "commitments\n",
            "increased\n",
            "Microsoft\n",
            "Cloud\n",
            "revenue\n",
            "to\n",
            "$\n",
            "22.1\n",
            "billion\n",
            "up\n",
            "32\n",
            "%\n",
            "year\n",
            "over\n",
            "year\n",
            "said\n",
            "Amy\n",
            "Hood\n",
            "executive\n",
            "vice\n",
            "president\n",
            "and\n",
            "chief\n",
            "financial\n",
            "officer\n",
            "of\n",
            "Microsoft\n"
          ]
        }
      ]
    },
    {
      "cell_type": "code",
      "source": [
        "count= doc.count_by(spacy.attrs.POS)\n",
        "\n",
        "print(doc.vocab[96].text)\n",
        "print(count.items())"
      ],
      "metadata": {
        "colab": {
          "base_uri": "https://localhost:8080/"
        },
        "id": "J-_n7DQoUSMK",
        "outputId": "b20ee399-b9d5-418d-f68e-fec4f9e941cd"
      },
      "execution_count": 11,
      "outputs": [
        {
          "output_type": "stream",
          "name": "stdout",
          "text": [
            "PROPN\n",
            "dict_items([(103, 12), (96, 13), (92, 46), (100, 24), (90, 9), (85, 16), (93, 16), (97, 27), (98, 1), (84, 20), (87, 6), (99, 5), (89, 12), (101, 2), (86, 3), (94, 3), (95, 2)])\n"
          ]
        }
      ]
    },
    {
      "cell_type": "code",
      "source": [
        "for k, v in count.items():\n",
        "  print(doc.vocab[k].text, ', ', v)"
      ],
      "metadata": {
        "colab": {
          "base_uri": "https://localhost:8080/"
        },
        "id": "R6fXIGwpVGEz",
        "outputId": "0262b3f6-75c0-49a6-e6a9-f9f9259c9abd"
      },
      "execution_count": 12,
      "outputs": [
        {
          "output_type": "stream",
          "name": "stdout",
          "text": [
            "SPACE ,  12\n",
            "PROPN ,  13\n",
            "NOUN ,  46\n",
            "VERB ,  24\n",
            "DET ,  9\n",
            "ADP ,  16\n",
            "NUM ,  16\n",
            "PUNCT ,  27\n",
            "SCONJ ,  1\n",
            "ADJ ,  20\n",
            "AUX ,  6\n",
            "SYM ,  5\n",
            "CCONJ ,  12\n",
            "X ,  2\n",
            "ADV ,  3\n",
            "PART ,  3\n",
            "PRON ,  2\n"
          ]
        }
      ]
    }
  ]
}